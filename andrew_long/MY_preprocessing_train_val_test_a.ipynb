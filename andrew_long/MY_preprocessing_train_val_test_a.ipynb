{
 "cells": [
  {
   "cell_type": "markdown",
   "metadata": {},
   "source": [
    "#### Bag of Words Approaches:\n",
    "In this notebook I am using bag of words (BoW) type of text vectorization. "
   ]
  },
  {
   "cell_type": "code",
   "execution_count": 2,
   "metadata": {},
   "outputs": [
    {
     "name": "stderr",
     "output_type": "stream",
     "text": [
      "/home/elena/anaconda3/envs/keras_gpu/lib/python3.6/site-packages/tensorflow/python/framework/dtypes.py:516: FutureWarning: Passing (type, 1) or '1type' as a synonym of type is deprecated; in a future version of numpy, it will be understood as (type, (1,)) / '(1,)type'.\n",
      "  _np_qint8 = np.dtype([(\"qint8\", np.int8, 1)])\n",
      "/home/elena/anaconda3/envs/keras_gpu/lib/python3.6/site-packages/tensorflow/python/framework/dtypes.py:517: FutureWarning: Passing (type, 1) or '1type' as a synonym of type is deprecated; in a future version of numpy, it will be understood as (type, (1,)) / '(1,)type'.\n",
      "  _np_quint8 = np.dtype([(\"quint8\", np.uint8, 1)])\n",
      "/home/elena/anaconda3/envs/keras_gpu/lib/python3.6/site-packages/tensorflow/python/framework/dtypes.py:518: FutureWarning: Passing (type, 1) or '1type' as a synonym of type is deprecated; in a future version of numpy, it will be understood as (type, (1,)) / '(1,)type'.\n",
      "  _np_qint16 = np.dtype([(\"qint16\", np.int16, 1)])\n",
      "/home/elena/anaconda3/envs/keras_gpu/lib/python3.6/site-packages/tensorflow/python/framework/dtypes.py:519: FutureWarning: Passing (type, 1) or '1type' as a synonym of type is deprecated; in a future version of numpy, it will be understood as (type, (1,)) / '(1,)type'.\n",
      "  _np_quint16 = np.dtype([(\"quint16\", np.uint16, 1)])\n",
      "/home/elena/anaconda3/envs/keras_gpu/lib/python3.6/site-packages/tensorflow/python/framework/dtypes.py:520: FutureWarning: Passing (type, 1) or '1type' as a synonym of type is deprecated; in a future version of numpy, it will be understood as (type, (1,)) / '(1,)type'.\n",
      "  _np_qint32 = np.dtype([(\"qint32\", np.int32, 1)])\n",
      "/home/elena/anaconda3/envs/keras_gpu/lib/python3.6/site-packages/tensorflow/python/framework/dtypes.py:525: FutureWarning: Passing (type, 1) or '1type' as a synonym of type is deprecated; in a future version of numpy, it will be understood as (type, (1,)) / '(1,)type'.\n",
      "  np_resource = np.dtype([(\"resource\", np.ubyte, 1)])\n",
      "/home/elena/anaconda3/envs/keras_gpu/lib/python3.6/site-packages/tensorboard/compat/tensorflow_stub/dtypes.py:541: FutureWarning: Passing (type, 1) or '1type' as a synonym of type is deprecated; in a future version of numpy, it will be understood as (type, (1,)) / '(1,)type'.\n",
      "  _np_qint8 = np.dtype([(\"qint8\", np.int8, 1)])\n",
      "/home/elena/anaconda3/envs/keras_gpu/lib/python3.6/site-packages/tensorboard/compat/tensorflow_stub/dtypes.py:542: FutureWarning: Passing (type, 1) or '1type' as a synonym of type is deprecated; in a future version of numpy, it will be understood as (type, (1,)) / '(1,)type'.\n",
      "  _np_quint8 = np.dtype([(\"quint8\", np.uint8, 1)])\n",
      "/home/elena/anaconda3/envs/keras_gpu/lib/python3.6/site-packages/tensorboard/compat/tensorflow_stub/dtypes.py:543: FutureWarning: Passing (type, 1) or '1type' as a synonym of type is deprecated; in a future version of numpy, it will be understood as (type, (1,)) / '(1,)type'.\n",
      "  _np_qint16 = np.dtype([(\"qint16\", np.int16, 1)])\n",
      "/home/elena/anaconda3/envs/keras_gpu/lib/python3.6/site-packages/tensorboard/compat/tensorflow_stub/dtypes.py:544: FutureWarning: Passing (type, 1) or '1type' as a synonym of type is deprecated; in a future version of numpy, it will be understood as (type, (1,)) / '(1,)type'.\n",
      "  _np_quint16 = np.dtype([(\"quint16\", np.uint16, 1)])\n",
      "/home/elena/anaconda3/envs/keras_gpu/lib/python3.6/site-packages/tensorboard/compat/tensorflow_stub/dtypes.py:545: FutureWarning: Passing (type, 1) or '1type' as a synonym of type is deprecated; in a future version of numpy, it will be understood as (type, (1,)) / '(1,)type'.\n",
      "  _np_qint32 = np.dtype([(\"qint32\", np.int32, 1)])\n",
      "/home/elena/anaconda3/envs/keras_gpu/lib/python3.6/site-packages/tensorboard/compat/tensorflow_stub/dtypes.py:550: FutureWarning: Passing (type, 1) or '1type' as a synonym of type is deprecated; in a future version of numpy, it will be understood as (type, (1,)) / '(1,)type'.\n",
      "  np_resource = np.dtype([(\"resource\", np.ubyte, 1)])\n"
     ]
    }
   ],
   "source": [
    "import pandas as pd\n",
    "import numpy as np\n",
    "import matplotlib.pyplot as plt\n",
    "%matplotlib inline\n",
    "import tensorflow as tf\n",
    "import pickle\n",
    "import warnings\n",
    "warnings.filterwarnings('ignore')"
   ]
  },
  {
   "cell_type": "code",
   "execution_count": 3,
   "metadata": {},
   "outputs": [],
   "source": [
    "df_train_all = pd.read_pickle('train_a.pkl')\n",
    "df_valid = pd.read_pickle('valid_a.pkl')\n",
    "df_test = pd.read_pickle('test_a.pkl')"
   ]
  },
  {
   "cell_type": "code",
   "execution_count": 5,
   "metadata": {},
   "outputs": [],
   "source": [
    "# split the training data into positive and negative\n",
    "rows_pos = df_train_all.OUTPUT_LABEL == 1\n",
    "df_train_pos = df_train_all.loc[rows_pos]\n",
    "df_train_neg = df_train_all.loc[~rows_pos]# merge the balanced data\n",
    "df_train = pd.concat([df_train_pos, df_train_neg.sample(n = len(df_train_pos), random_state = 42)],axis = 0)# shuffle the order of training samples \n",
    "df_train = df_train.sample(n = len(df_train), random_state = 42).reset_index(drop = True)"
   ]
  },
  {
   "cell_type": "markdown",
   "metadata": {},
   "source": [
    "#### Preprocess for bag-of-words (BoF):"
   ]
  },
  {
   "cell_type": "code",
   "execution_count": 6,
   "metadata": {},
   "outputs": [],
   "source": [
    "def preprocess_text(df):\n",
    "    # This function preprocesses the text by filling not a number and replacing new lines ('\\n') and carriage returns ('\\r')\n",
    "    df.TEXT = df.TEXT.fillna(' ')\n",
    "    df.TEXT = df.TEXT.str.replace('\\n',' ')\n",
    "    df.TEXT = df.TEXT.str.replace('\\r',' ')\n",
    "    return df"
   ]
  },
  {
   "cell_type": "code",
   "execution_count": 7,
   "metadata": {},
   "outputs": [],
   "source": [
    "df_train = preprocess_text(df_train)\n",
    "df_valid = preprocess_text(df_valid)\n",
    "df_test = preprocess_text(df_test)"
   ]
  },
  {
   "cell_type": "code",
   "execution_count": 8,
   "metadata": {},
   "outputs": [
    {
     "name": "stderr",
     "output_type": "stream",
     "text": [
      "[nltk_data] Downloading package punkt to /home/elena/nltk_data...\n",
      "[nltk_data]   Package punkt is already up-to-date!\n",
      "[nltk_data] Downloading package wordnet to /home/elena/nltk_data...\n",
      "[nltk_data]   Package wordnet is already up-to-date!\n",
      "[nltk_data] Downloading package stopwords to /home/elena/nltk_data...\n",
      "[nltk_data]   Package stopwords is already up-to-date!\n",
      "Using TensorFlow backend.\n"
     ]
    }
   ],
   "source": [
    "import nltk\n",
    "nltk.download('punkt')\n",
    "nltk.download('wordnet')\n",
    "nltk.download('stopwords')\n",
    "from nltk import word_tokenize\n",
    "from nltk.stem import PorterStemmer\n",
    "from nltk.stem import WordNetLemmatizer\n",
    "from nltk.util import ngrams\n",
    "from nltk.corpus import stopwords\n",
    "from nltk.stem import SnowballStemmer\n",
    "\n",
    "\n",
    "# sklearn\n",
    "from sklearn.feature_selection import SelectKBest\n",
    "from sklearn.model_selection import GridSearchCV\n",
    "from sklearn.feature_extraction.text import CountVectorizer\n",
    "from sklearn.feature_extraction.text import TfidfVectorizer\n",
    "from sklearn.linear_model import LogisticRegression\n",
    "from sklearn.metrics import confusion_matrix\n",
    "from sklearn import metrics\n",
    "from sklearn.naive_bayes import GaussianNB\n",
    "from sklearn.metrics import f1_score\n",
    "from sklearn.pipeline import Pipeline\n",
    "\n",
    "from numpy import array\n",
    "from scipy.sparse import csr_matrix\n",
    "from time import time\n",
    "import re\n",
    "import string\n",
    "\n",
    "\n",
    "# keras\n",
    "import tensorflow as tf\n",
    "from keras.models import Sequential\n",
    "from keras.layers import Dense\n",
    "from keras.layers import Dropout\n",
    "from keras.optimizers import Adam\n",
    "from keras.models import Sequential, load_model\n",
    "from keras.layers import Dense\n",
    "from keras.layers import LSTM\n",
    "from keras.layers.embeddings import Embedding\n",
    "from keras.preprocessing import sequence\n",
    "from keras.callbacks import TensorBoard\n",
    "from keras.utils import np_utils\n",
    "from keras.utils import to_categorical"
   ]
  },
  {
   "cell_type": "markdown",
   "metadata": {},
   "source": [
    "#### Now lets look at one of the texts:"
   ]
  },
  {
   "cell_type": "code",
   "execution_count": 9,
   "metadata": {},
   "outputs": [
    {
     "data": {
      "text/plain": [
       "\"Admission Date:  [**2168-2-19**]              Discharge Date:   [**2168-2-24**]   Service: MEDICINE  Allergies: Penicillins / Morphine  Attending:[**First Name3 (LF) 5755**] Chief Complaint: Melena and coffee ground emesis  Major Surgical or Invasive Procedure: Upper Endoscopy with clipping of duodenal ulcer  History of Present Illness: 87 F with anemia, GERD, DM2, HTN, hyperlipid, presents with black coffee ground vomit and black diarrhea x past 10 days. She has had 10 episodes of vomiting and 10 episodes of diarrhea per day. She also has abdominal pain that feels like pressure and bloating, that is in a band-like area across the middle of her abdomen. She presented to the ED today because she was speaking with her daughter and said she was so tired that she couldn't even hold the phone any longer, that she was very dizzy, and that she just did not feel well. She had been keeping her black vomit and diarrhea a secret from the family. She has never had such black vomit or diarrhea before in her life.  Her granddaughter reports that she takes daily aspirin and frequently takes medications that she believes are in the same family as ibuprofen and aleve although they are sent from [**Country 3594**]. . In the ED, HR 110s with SBP 140s, moderately tender abdomen and melenic stools. NG lavage was clear, but was placed on high suction and began to show light pink fluid which may have been NGT trauma. Hct 19 down from Hct 33 on 9 days ago, but has antibodies to transfusions, so she is difficult to match. Received PPI IV in ED. . GI was contact[**Name (NI) **] when she arrived in the ICU, and plan is to perform EGD in the am after patient receives a few units of RBC. +cough, +dizziness, +diffuse abd pain, +fatigue. No fever, chills, headache, sore throat, CP, SOB, dysuria.   Past Medical History: microcytic anemia - BL in mid 30s Diabetes - HbA1C 8.2 [**2-7**] hypertension hypercholesterolemia h/o angina- negative p-MIBI [**2163**] w/ EF 65% GERD utricaria s/p L wrist fracture   Social History: Spanish speaking. Has supportive family that lives locally.  Family History: Unknown  Physical Exam: VS: 100.3 / 110 / 125/80 / 17 / 98% RA GEN: Cheerful, alert, Spanish-speaking HEENT: Pale mucus membranes and skin, mild yellowing of skin, OP clear. No LAD, JVD flat. LUNGS: CTA B HEART: RRR. nl S1, S2. No murmurs, rubs or [**Last Name (un) 549**] ABD: NABS. Soft, NT, ND. No HSM. EXT: WWP, NO CCE. 2+ DP pulses BL SKIN: No rashes/lesions, ecchymoses. NEURO: A&Ox3. Appropriate. CN 2-12 grossly intact. Preserved sensation throughout. 5/5 strength throughout. [**2-2**]+ reflexes, equal BL. Normal coordination. Gait assessment deferred   Pertinent Results: [**2168-2-18**] 09:00PM   HYPOCHROM-NORMAL ANISOCYT-1+ POIKILOCY-NORMAL MACROCYT-OCCASIONAL MICROCYT-1+ POLYCHROM-1+ SCHISTOCY-OCCASIONAL [**2168-2-18**] 09:00PM   NEUTS-87.8* BANDS-0 LYMPHS-8.8* MONOS-2.6 EOS-0.8 BASOS-0 [**2168-2-18**] 09:00PM   WBC-9.4 RBC-2.69*# HGB-6.7*# HCT-21.1*# MCV-79* MCH-25.0* MCHC-31.9 RDW-17.4* [**2168-2-18**] 09:14PM   HGB-7.1* calcHCT-21 [**2168-2-19**] 01:24AM   HGB-6.3* calcHCT-19 [**2168-2-19**] 01:32AM   PT-11.9 PTT-25.0 INR(PT)-1.0 [**2168-2-19**] 09:07AM   CK-MB-2 cTropnT-<0.01 [**2168-2-19**] 05:19PM   WBC-5.8 RBC-2.98* HGB-8.0* HCT-22.9* MCV-77* MCH-26.9* MCHC-35.0 RDW-17.4* [**2168-2-19**] 07:55PM   WBC-8.0 RBC-3.22* HGB-8.7* HCT-24.8* MCV-77* MCH-27.0 MCHC-35.0 RDW-17.4* . ALT 11, AST 16, T BILI 0.5, LIPASE 22, ALBUMIN 3.3 URIC ACID 5.6 IRON 50, TIBC 386, FERRITIN 6.8, FOLATE >20, B12 >[**2161**], HAPTO 219 HGB A1C 6.9% . FECAL CULTURE (Final [**2168-2-24**]):    NO SALMONELLA OR SHIGELLA FOUND.     CAMPYLOBACTER CULTURE (Final [**2168-2-22**]):    NO CAMPYLOBACTER FOUND.     OVA + PARASITES (Final [**2168-2-22**]):       NO OVA AND PARASITES SEEN.       This test does not reliably detect Cryptosporidium, Cyclospora or       Microsporidium. While most cases of Giardia are detected by routine       O+P, the Giardia antigen test may enhance detection when organisms       are rare.     FECAL CULTURE - R/O VIBRIO (Final [**2168-2-22**]):    NO VIBRIO FOUND.     FECAL CULTURE - R/O YERSINIA (Final [**2168-2-22**]):    NO YERSINIA FOUND.     FECAL CULTURE - R/O E.COLI 0157:H7 (Final [**2168-2-22**]):       NO E.COLI 0157:H7 FOUND.     CLOSTRIDIUM DIFFICILE TOXIN ASSAY (Final [**2168-2-21**]):       FECES NEGATIVE FOR C. DIFFICILE TOXIN BY EIA.       Reference Range:  Negative. URINE CX [**2-19**]: NO GROWTH H PYLORI: POSITIVE . EGD: Presbyesophagus Abnormal mucosa in the stomach (gastritis) Duodenal ulcer Duodenal ulcer (ligation)  Brief Hospital Course: 87 F with anemia, GERD, DM, HTN, hyperlipidemia, admitted with UGIB. . # Acute blood loss anemia:  Initial hct was found to be 21.1. She was transfused 2U prbcs and hct bumped from 21-->23-->24.8. GI was consulted and an upper endoscopy was performed in the intensive care unit.  The EGD revealed gastritis, duodenal ulcer, and small duodenal bleeding vessel which was clipped. Post procedure she received 2U prbcs total for a goal of hct 28 and hct remained stable.  Her hemodynamics were also stable.  H. pylori serology was positive and patient was started on treatment regimen (clarithro, flagyl, and protonix).  The patient has longstanding microcytic anemia and was scheduled for both colonoscopy and EGD as an outpatient.  Although anemia may be a result of occult UGI bleed, she should still undergo outpatient colonoscopy for screening purposes.  Her granddaughter states that patient takes aspirin regularly at home and other medications sent from [**Country 3594**] that she thought might be in the same family as NSAIDs.  She was instructed to avoid such medications in this setting.  Given ferritin 6.8, she was discharged home on an iron supplement for iron deficiency anemia. . # Iron deficiency anemia: Prior to this admission, her iron was 53 in [**12-6**] with ferritin 15.  During this hospital stay, her ferritin was again found to be very low at 6.8, consistent with iron deficiency anemia.  B12 and folate were normal.  This is likely secondary to occult GI bleed.  She had previously been scheduled for colonoscopy/EGD at the end of [**2167**] with Dr. [**Last Name (STitle) 2161**] but missed her appointment.  She will need colonoscopy for further screening upon discharge.  She will be discharged on iron supplementation. . # Diarrhea:  [**Name (NI) **] granddaughter reports diarrhea and nausea x nearly 10 days (although pt. states for approx. 3 days only). She reports no recent travel, no sick contacts, no recent hospitalizations nor antibiotics.  She has mild abdominal discomfort, but no focal abdominal findings.  3 day duration c/w gastroenteritis while 10 day duration seems long for persistent symptoms as she is having.  Does not have elevated WBC count, but had low grade temperature on admission which resolved. Possibly this was due to cathartic effect of GI bleeding.  Stool culture, including c diff negative. . # Right foot cellulitis:  Patient complained of pain and was noted to have swelling and erythema overlying the dorsum of her right foot.  No joint involvement and uric acid normal.  XRay negative for fracture.  Symptoms improved on clarithromycin with elevation/ACE wrap.  No skin tears, foot ulcer, and toenails intact.  She will follow-up with her PCP for continued monitoring. . # Left knee osteoarthritis:  Patient complained of left knee pain, relieved with standing tylenol.  XRay negative for fracture or dislocation.  She has known osteoarthritis and will follow-up with her PCP for this problem. . # DM2:  Her most recent HgbA1C was found to be 8.  HgbA1c this admission 6.9%.  She had significant glucosuria on admission UA.  Blood sugars were 140s-190s on ISS while in ICU.  She will be discharged on her oral agents (glipizide and roziglitazone), but will need close follow up given her elevated HgbA1C and inadequately controlled BS.  Of note, she reports that she has been taking her glipizide every other day but has tolerated daily dosing in house. . # Hypertension: Patient recently increased from 50 to 75 mg atenolol in 11/[**2167**]. She was tachycardic on admission, likely physiologic in setting of GIB, which improved slightly with fluid resuscitation.  Her home dose atenolol and imdur were originally held in the setting of her GI bleed, but her hemodynamics remained stable and SBPs were 110s-150s following EGD.  Her antihypertensives have since been restarted and her blood pressure remains under good control. . # hypercholesterolemia: She was continued on her home dose statin. . # COMM: [**First Name8 (NamePattern2) 13118**] [**Last Name (NamePattern1) 13119**], daughter, [**Telephone/Fax (1) 13120**]   Medications on Admission: atenolol 75 mg QD glipizide 10 mg QD Rosiglitazone 8 mg QD Imdur 30 mg QD lovastatin 40 mg QD omeprazole 20 mg QD NTG prn   Discharge Medications: 1. Ferrous Sulfate 325 (65) mg Tablet Sig: One (1) Tablet PO DAILY (Daily). Disp:*30 Tablet(s)* Refills:*2* 2. Clarithromycin 500 mg Tablet Sig: One (1) Tablet PO twice a day for 13 days. Disp:*25 Tablet(s)* Refills:*0* 3. Metronidazole 500 mg Tablet Sig: One (1) Tablet PO BID (2 times a day) for 13 days. Disp:*25 Tablet(s)* Refills:*0* 4. Pantoprazole 40 mg Tablet, Delayed Release (E.C.) Sig: One (1) Tablet, Delayed Release (E.C.) PO Q12H (every 12 hours). Disp:*60 Tablet, Delayed Release (E.C.)(s)* Refills:*2* 5. Atenolol 50 mg Tablet Sig: 1.5 Tablets PO DAILY (Daily). 6. Glipizide 10 mg Tablet Sig: One (1) Tablet PO once a day. 7. Rosiglitazone 8 mg Tablet Sig: One (1) Tablet PO once a day.  8. Isosorbide Mononitrate 30 mg Tablet Sustained Release 24HR Sig: One (1) Tablet Sustained Release 24HR PO DAILY (Daily). 9. Lovastatin 40 mg Tablet Sig: One (1) Tablet PO once a day. 10. Cholecalciferol (Vitamin D3) 400 unit Tablet Sig: One (1) Tablet PO BID (2 times a day). Disp:*60 Tablet(s)* Refills:*2* 11. Calcium 500 500 mg Tablet Sig: One (1) Tablet PO three times a day. Disp:*90 Tablet(s)* Refills:*2*   Discharge Disposition: Home With Service  Facility: [**Location (un) 86**] VNA  Discharge Diagnosis: primary: acute blood loss anemia secondary to duodenal ulcer, h pylori positive right foot cellulitis left knee osteoarthritis  secondary: osteopenia type 2 diabetes, poorly controlled w/o complications hypertension   Discharge Condition: good: hematocrit stable   Discharge Instructions: Please call your doctor or go to the emergency room if you experience temperature > 101, blood in your stool or black stools, dizziness, chest pain, shortness of breath, worsening redness or swelling in your foot, or other concerns.  Please note the following changes in your medications: 1. Please take your glipizide daily. 2. Please take the antibiotics, as prescribed, until they are all gone. 3. Please take the iron supplement, as prescribed. 4. You can take tylenol, as needed, for the pain in your knee. Please do not exceed more than 2 g total per day. 5. You should be taking calcium 3 times per day and vitamin D two times per day for your low bone density. 6. Please avoid any further use of aspirin, ibuprofen, motrin, alleve, or other similar medications.  Followup Instructions: Please follow-up with Dr. [**Last Name (STitle) **] on [**2168-3-3**] at 2:30 PM for recheck of your blood count, to schedule an outpatient colonoscopy for cancer screening, for continued management of your diabetes, and to discuss bone density testing. Location: 1000 [**Last Name (LF) **], [**First Name3 (LF) **], MA.  Phone: [**Telephone/Fax (1) 1144**]    \""
      ]
     },
     "execution_count": 9,
     "metadata": {},
     "output_type": "execute_result"
    }
   ],
   "source": [
    "df_train.TEXT[0]"
   ]
  },
  {
   "cell_type": "markdown",
   "metadata": {},
   "source": [
    "#### These texts need lots of cleaning:"
   ]
  },
  {
   "cell_type": "code",
   "execution_count": 10,
   "metadata": {},
   "outputs": [],
   "source": [
    "def clean_text(text):\n",
    "\n",
    "    punc_list = string.punctuation+'0123456789'\n",
    "    t = str.maketrans(dict.fromkeys(punc_list, \" \"))\n",
    "    text = text.lower().translate(t).split()\n",
    "    \n",
    "    ## Remove stop words\n",
    "    stops = set(stopwords.words(\"english\"))\n",
    "    text = [w for w in text if not w in stops and len(w) >= 3]\n",
    "    text = \" \".join(text)\n",
    "    \n",
    "    ## Clean the text\n",
    "    text = re.sub(r\"[^A-Za-z0-9^,!.\\/'+-=]\", \" \", text)\n",
    "    text = re.sub(r\"what's\", \"what is \", text)\n",
    "    text = re.sub(r\"\\'s\", \" \", text)\n",
    "    text = re.sub(r\"\\'ve\", \" have \", text)\n",
    "    text = re.sub(r\"n't\", \" not \", text)\n",
    "    text = re.sub(r\"i'm\", \"i am \", text)\n",
    "    text = re.sub(r\"\\'re\", \" are \", text)\n",
    "    text = re.sub(r\"\\'d\", \" would \", text)\n",
    "    text = re.sub(r\"\\'ll\", \" will \", text)\n",
    "    text = re.sub(r\",\", \" \", text)\n",
    "    text = re.sub(r\"\\.\", \" \", text)\n",
    "    text = re.sub(r\"!\", \" ! \", text)\n",
    "    text = re.sub(r\"\\/\", \" \", text)\n",
    "    text = re.sub(r\"\\^\", \" ^ \", text)\n",
    "    text = re.sub(r\"\\+\", \" + \", text)\n",
    "    text = re.sub(r\"\\-\", \" - \", text)\n",
    "    text = re.sub(r\"\\=\", \" = \", text)\n",
    "    text = re.sub(r\"'\", \" \", text)\n",
    "    text = re.sub(r\"(\\d+)(k)\", r\"\\g<1>000\", text)\n",
    "    text = re.sub(r\":\", \" : \", text)\n",
    "    text = re.sub(r\" e g \", \" eg \", text)\n",
    "    text = re.sub(r\" b g \", \" bg \", text)\n",
    "    text = re.sub(r\" u s \", \" american \", text)\n",
    "    text = re.sub(r\"\\0s\", \"0\", text)\n",
    "    text = re.sub(r\" 9 11 \", \"911\", text)\n",
    "    text = re.sub(r\"e - mail\", \"email\", text)\n",
    "    text = re.sub(r\"j k\", \"jk\", text)\n",
    "    text = re.sub(r\"\\s{2,}\", \" \", text)\n",
    "    \n",
    "    ## Stemming\n",
    "    text = text.split()\n",
    "    stemmer = SnowballStemmer('english')\n",
    "    stemmed_words = [stemmer.stem(word) for word in text]\n",
    "    text = \" \".join(stemmed_words)\n",
    "    \n",
    "    return text"
   ]
  },
  {
   "cell_type": "markdown",
   "metadata": {},
   "source": [
    "#### Now lets see how they look:"
   ]
  },
  {
   "cell_type": "code",
   "execution_count": 11,
   "metadata": {
    "scrolled": true
   },
   "outputs": [
    {
     "data": {
      "text/plain": [
       "'admiss date discharg date servic medicin allergi penicillin morphin attend first name chief complaint melena coffe ground emesi major surgic invas procedur upper endoscopi clip duoden ulcer histori present ill anemia gerd htn hyperlipid present black coffe ground vomit black diarrhea past day episod vomit episod diarrhea per day also abdomin pain feel like pressur bloat band like area across middl abdomen present today speak daughter said tire even hold phone longer dizzi feel well keep black vomit diarrhea secret famili never black vomit diarrhea life granddaught report take daili aspirin frequent take medic believ famili ibuprofen alev although sent countri sbp moder tender abdomen melen stool lavag clear place high suction began show light pink fluid may ngt trauma hct hct day ago antibodi transfus difficult match receiv ppi contact name arriv icu plan perform egd patient receiv unit rbc cough dizzi diffus abd pain fatigu fever chill headach sore throat sob dysuria past medic histori microcyt anemia mid diabet hba hypertens hypercholesterolemia angina negat mibi gerd utricaria wrist fractur social histori spanish speak support famili live local famili histori unknown physic exam gen cheer alert spanish speak heent pale mucus membran skin mild yellow skin clear lad jvd flat lung cta heart rrr murmur rub last name abd nab soft hsm ext wwp cce puls skin rash lesion ecchymos neuro appropri grossli intact preserv sensat throughout strength throughout reflex equal normal coordin gait assess defer pertin result hypochrom normal anisocyt poikiloci normal macrocyt occasion microcyt polychrom schistoci occasion neut band lymph mono eo baso wbc rbc hgb hct mcv mch mchc rdw hgb calchct hgb calchct ptt inr ctropnt wbc rbc hgb hct mcv mch mchc rdw wbc rbc hgb hct mcv mch mchc rdw alt ast bili lipas albumin uric acid iron tibc ferritin folat hapto hgb fecal cultur final salmonella shigella found campylobact cultur final campylobact found ova parasit final ova parasit seen test reliabl detect cryptosporidium cyclospora microsporidium case giardia detect routin giardia antigen test may enhanc detect organ rare fecal cultur vibrio final vibrio found fecal cultur yersinia final yersinia found fecal cultur coli final coli found clostridium difficil toxin assay final fece negat difficil toxin eia refer rang negat urin growth pylori posit egd presbyesophagus abnorm mucosa stomach gastriti duoden ulcer duoden ulcer ligat brief hospit cours anemia gerd htn hyperlipidemia admit ugib acut blood loss anemia initi hct found transfus prbcs hct bump consult upper endoscopi perform intens care unit egd reveal gastriti duoden ulcer small duoden bleed vessel clip post procedur receiv prbcs total goal hct hct remain stabl hemodynam also stabl pylori serolog posit patient start treatment regimen clarithro flagyl protonix patient longstand microcyt anemia schedul colonoscopi egd outpati although anemia may result occult ugi bleed still undergo outpati colonoscopi screen purpos granddaught state patient take aspirin regular home medic sent countri thought might famili nsaid instruct avoid medic set given ferritin discharg home iron supplement iron defici anemia iron defici anemia prior admiss iron ferritin hospit stay ferritin found low consist iron defici anemia folat normal like secondari occult bleed previous schedul colonoscopi egd end last name stitl miss appoint need colonoscopi screen upon discharg discharg iron supplement diarrhea name granddaught report diarrhea nausea near day although state approx day report recent travel sick contact recent hospit antibiot mild abdomin discomfort focal abdomin find day durat gastroenter day durat seem long persist symptom elev wbc count low grade temperatur admiss resolv possibl due cathart effect bleed stool cultur includ diff negat right foot cellul patient complain pain note swell erythema over dorsum right foot joint involv uric acid normal xray negat fractur symptom improv clarithromycin elev ace wrap skin tear foot ulcer toenail intact follow pcp continu monitor left knee osteoarthr patient complain left knee pain reliev stand tylenol xray negat fractur disloc known osteoarthr follow pcp problem recent hgba found hgba admiss signific glucosuria admiss blood sugar iss icu discharg oral agent glipizid roziglitazon need close follow given elev hgba inadequ control note report take glipizid everi day toler daili dose hous hypertens patient recent increas atenolol tachycard admiss like physiolog set gib improv slight fluid resuscit home dose atenolol imdur origin held set bleed hemodynam remain stabl sbps follow egd antihypertens sinc restart blood pressur remain good control hypercholesterolemia continu home dose statin comm first name namepattern last name namepattern daughter telephon fax medic admiss atenolol glipizid rosiglitazon imdur lovastatin omeprazol ntg prn discharg medic ferrous sulfat tablet sig one tablet daili daili disp tablet refil clarithromycin tablet sig one tablet twice day day disp tablet refil metronidazol tablet sig one tablet bid time day day disp tablet refil pantoprazol tablet delay releas sig one tablet delay releas everi hour disp tablet delay releas refil atenolol tablet sig tablet daili daili glipizid tablet sig one tablet day rosiglitazon tablet sig one tablet day isosorbid mononitr tablet sustain releas sig one tablet sustain releas daili daili lovastatin tablet sig one tablet day cholecalciferol vitamin unit tablet sig one tablet bid time day disp tablet refil calcium tablet sig one tablet three time day disp tablet refil discharg disposit home servic facil locat vna discharg diagnosi primari acut blood loss anemia secondari duoden ulcer pylori posit right foot cellul left knee osteoarthr secondari osteopenia type diabet poor control complic hypertens discharg condit good hematocrit stabl discharg instruct pleas call doctor emerg room experi temperatur blood stool black stool dizzi chest pain short breath worsen red swell foot concern pleas note follow chang medic pleas take glipizid daili pleas take antibiot prescrib gone pleas take iron supplement prescrib take tylenol need pain knee pleas exceed total per day take calcium time per day vitamin two time per day low bone densiti pleas avoid use aspirin ibuprofen motrin allev similar medic followup instruct pleas follow last name stitl recheck blood count schedul outpati colonoscopi cancer screen continu manag diabet discuss bone densiti test locat last name first name phone telephon fax'"
      ]
     },
     "execution_count": 11,
     "metadata": {},
     "output_type": "execute_result"
    }
   ],
   "source": [
    "clean_text(df_train['TEXT'][0])"
   ]
  },
  {
   "cell_type": "markdown",
   "metadata": {},
   "source": [
    "#### Looks clean and ready for BoW!"
   ]
  },
  {
   "cell_type": "code",
   "execution_count": 12,
   "metadata": {},
   "outputs": [],
   "source": [
    "df_train['TEXT'] = df_train['TEXT'].map(lambda x: clean_text(x))\n",
    "df_valid['TEXT'] = df_valid['TEXT'].map(lambda x: clean_text(x))\n",
    "df_test['TEXT'] = df_test['TEXT'].map(lambda x: clean_text(x))"
   ]
  },
  {
   "cell_type": "code",
   "execution_count": 14,
   "metadata": {},
   "outputs": [
    {
     "name": "stdout",
     "output_type": "stream",
     "text": [
      "4198\n",
      "7667\n",
      "       SUBJECT_ID  HADM_ID           ADMITTIME           DISCHTIME DEATHTIME  \\\n",
      "9061        86662   140257 2133-12-08 17:23:00 2133-12-15 14:30:00       NaT   \n",
      "4144        23568   173420 2114-09-19 20:35:00 2114-10-02 15:16:00       NaT   \n",
      "26434       26218   133475 2154-06-18 05:59:00 2154-06-20 16:25:00       NaT   \n",
      "\n",
      "      ADMISSION_TYPE      NEXT_ADMITTIME NEXT_ADMISSION_TYPE  DAYS_NEXT_ADMIT  \\\n",
      "9061       EMERGENCY                 NaT                 NaN              NaN   \n",
      "4144       EMERGENCY 2114-10-15 17:31:00           EMERGENCY         13.09375   \n",
      "26434      EMERGENCY                 NaT                 NaN              NaN   \n",
      "\n",
      "                CATEGORY                                               TEXT  \\\n",
      "9061   Discharge summary  admiss date discharg date date birth sex servi...   \n",
      "4144   Discharge summary  admiss date discharg date date birth sex servi...   \n",
      "26434                NaN                                                      \n",
      "\n",
      "       OUTPUT_LABEL  \n",
      "9061              0  \n",
      "4144              1  \n",
      "26434             0  \n",
      "7667\n",
      "       SUBJECT_ID  HADM_ID           ADMITTIME           DISCHTIME  \\\n",
      "25234       88613   174754 2184-05-27 19:17:00 2184-06-12 11:46:00   \n",
      "11550       92410   149397 2188-05-07 17:36:00 2188-05-17 17:55:00   \n",
      "26803        1721   197746 2150-04-26 06:07:00 2150-04-27 19:32:00   \n",
      "\n",
      "                DEATHTIME ADMISSION_TYPE NEXT_ADMITTIME NEXT_ADMISSION_TYPE  \\\n",
      "25234                 NaT      EMERGENCY            NaT                 NaN   \n",
      "11550                 NaT      EMERGENCY            NaT                 NaN   \n",
      "26803 2150-04-27 19:32:00      EMERGENCY            NaT                 NaN   \n",
      "\n",
      "       DAYS_NEXT_ADMIT           CATEGORY  \\\n",
      "25234              NaN  Discharge summary   \n",
      "11550              NaN  Discharge summary   \n",
      "26803              NaN  Discharge summary   \n",
      "\n",
      "                                                    TEXT  OUTPUT_LABEL  \n",
      "25234  admiss date discharg date date birth sex servi...             0  \n",
      "11550  admiss date discharg date date birth sex servi...             0  \n",
      "26803  admiss date discharg date date birth sex servi...             0  \n"
     ]
    }
   ],
   "source": [
    "print(len(df_train))\n",
    "print(len(df_valid))\n",
    "print(df_valid.head(3))\n",
    "print(len(df_test))\n",
    "print(df_test.head(3))"
   ]
  },
  {
   "cell_type": "code",
   "execution_count": 15,
   "metadata": {},
   "outputs": [],
   "source": [
    "df_train.to_pickle('train_prepared_a.pkl')\n",
    "df_valid.to_pickle('valid_prepared_a.pkl')\n",
    "df_test.to_pickle('test_prepared_a.pkl')"
   ]
  },
  {
   "cell_type": "code",
   "execution_count": 16,
   "metadata": {},
   "outputs": [
    {
     "data": {
      "text/plain": [
       "7667"
      ]
     },
     "execution_count": 16,
     "metadata": {},
     "output_type": "execute_result"
    }
   ],
   "source": [
    "len(df_valid)"
   ]
  },
  {
   "cell_type": "code",
   "execution_count": null,
   "metadata": {},
   "outputs": [],
   "source": []
  }
 ],
 "metadata": {
  "kernelspec": {
   "display_name": "Python 3",
   "language": "python",
   "name": "python3"
  },
  "language_info": {
   "codemirror_mode": {
    "name": "ipython",
    "version": 3
   },
   "file_extension": ".py",
   "mimetype": "text/x-python",
   "name": "python",
   "nbconvert_exporter": "python",
   "pygments_lexer": "ipython3",
   "version": "3.6.10"
  }
 },
 "nbformat": 4,
 "nbformat_minor": 2
}
