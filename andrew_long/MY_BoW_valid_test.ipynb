{
 "cells": [
  {
   "cell_type": "markdown",
   "metadata": {},
   "source": [
    "#### Bag of Words Approaches:\n",
    "- In this notebook I use bag of words (BoW) type of text vectorization. \n",
    "- Evaluation metrics are: AUC and F1 score. "
   ]
  },
  {
   "cell_type": "code",
   "execution_count": 1,
   "metadata": {},
   "outputs": [
    {
     "name": "stderr",
     "output_type": "stream",
     "text": [
      "/home/elena/anaconda3/envs/keras_gpu/lib/python3.6/site-packages/tensorflow/python/framework/dtypes.py:516: FutureWarning: Passing (type, 1) or '1type' as a synonym of type is deprecated; in a future version of numpy, it will be understood as (type, (1,)) / '(1,)type'.\n",
      "  _np_qint8 = np.dtype([(\"qint8\", np.int8, 1)])\n",
      "/home/elena/anaconda3/envs/keras_gpu/lib/python3.6/site-packages/tensorflow/python/framework/dtypes.py:517: FutureWarning: Passing (type, 1) or '1type' as a synonym of type is deprecated; in a future version of numpy, it will be understood as (type, (1,)) / '(1,)type'.\n",
      "  _np_quint8 = np.dtype([(\"quint8\", np.uint8, 1)])\n",
      "/home/elena/anaconda3/envs/keras_gpu/lib/python3.6/site-packages/tensorflow/python/framework/dtypes.py:518: FutureWarning: Passing (type, 1) or '1type' as a synonym of type is deprecated; in a future version of numpy, it will be understood as (type, (1,)) / '(1,)type'.\n",
      "  _np_qint16 = np.dtype([(\"qint16\", np.int16, 1)])\n",
      "/home/elena/anaconda3/envs/keras_gpu/lib/python3.6/site-packages/tensorflow/python/framework/dtypes.py:519: FutureWarning: Passing (type, 1) or '1type' as a synonym of type is deprecated; in a future version of numpy, it will be understood as (type, (1,)) / '(1,)type'.\n",
      "  _np_quint16 = np.dtype([(\"quint16\", np.uint16, 1)])\n",
      "/home/elena/anaconda3/envs/keras_gpu/lib/python3.6/site-packages/tensorflow/python/framework/dtypes.py:520: FutureWarning: Passing (type, 1) or '1type' as a synonym of type is deprecated; in a future version of numpy, it will be understood as (type, (1,)) / '(1,)type'.\n",
      "  _np_qint32 = np.dtype([(\"qint32\", np.int32, 1)])\n",
      "/home/elena/anaconda3/envs/keras_gpu/lib/python3.6/site-packages/tensorflow/python/framework/dtypes.py:525: FutureWarning: Passing (type, 1) or '1type' as a synonym of type is deprecated; in a future version of numpy, it will be understood as (type, (1,)) / '(1,)type'.\n",
      "  np_resource = np.dtype([(\"resource\", np.ubyte, 1)])\n",
      "/home/elena/anaconda3/envs/keras_gpu/lib/python3.6/site-packages/tensorboard/compat/tensorflow_stub/dtypes.py:541: FutureWarning: Passing (type, 1) or '1type' as a synonym of type is deprecated; in a future version of numpy, it will be understood as (type, (1,)) / '(1,)type'.\n",
      "  _np_qint8 = np.dtype([(\"qint8\", np.int8, 1)])\n",
      "/home/elena/anaconda3/envs/keras_gpu/lib/python3.6/site-packages/tensorboard/compat/tensorflow_stub/dtypes.py:542: FutureWarning: Passing (type, 1) or '1type' as a synonym of type is deprecated; in a future version of numpy, it will be understood as (type, (1,)) / '(1,)type'.\n",
      "  _np_quint8 = np.dtype([(\"quint8\", np.uint8, 1)])\n",
      "/home/elena/anaconda3/envs/keras_gpu/lib/python3.6/site-packages/tensorboard/compat/tensorflow_stub/dtypes.py:543: FutureWarning: Passing (type, 1) or '1type' as a synonym of type is deprecated; in a future version of numpy, it will be understood as (type, (1,)) / '(1,)type'.\n",
      "  _np_qint16 = np.dtype([(\"qint16\", np.int16, 1)])\n",
      "/home/elena/anaconda3/envs/keras_gpu/lib/python3.6/site-packages/tensorboard/compat/tensorflow_stub/dtypes.py:544: FutureWarning: Passing (type, 1) or '1type' as a synonym of type is deprecated; in a future version of numpy, it will be understood as (type, (1,)) / '(1,)type'.\n",
      "  _np_quint16 = np.dtype([(\"quint16\", np.uint16, 1)])\n",
      "/home/elena/anaconda3/envs/keras_gpu/lib/python3.6/site-packages/tensorboard/compat/tensorflow_stub/dtypes.py:545: FutureWarning: Passing (type, 1) or '1type' as a synonym of type is deprecated; in a future version of numpy, it will be understood as (type, (1,)) / '(1,)type'.\n",
      "  _np_qint32 = np.dtype([(\"qint32\", np.int32, 1)])\n",
      "/home/elena/anaconda3/envs/keras_gpu/lib/python3.6/site-packages/tensorboard/compat/tensorflow_stub/dtypes.py:550: FutureWarning: Passing (type, 1) or '1type' as a synonym of type is deprecated; in a future version of numpy, it will be understood as (type, (1,)) / '(1,)type'.\n",
      "  np_resource = np.dtype([(\"resource\", np.ubyte, 1)])\n",
      "[nltk_data] Downloading package punkt to /home/elena/nltk_data...\n",
      "[nltk_data]   Package punkt is already up-to-date!\n",
      "[nltk_data] Downloading package wordnet to /home/elena/nltk_data...\n",
      "[nltk_data]   Package wordnet is already up-to-date!\n",
      "[nltk_data] Downloading package stopwords to /home/elena/nltk_data...\n",
      "[nltk_data]   Package stopwords is already up-to-date!\n",
      "Using TensorFlow backend.\n"
     ]
    }
   ],
   "source": [
    "import pandas as pd\n",
    "import numpy as np\n",
    "import matplotlib.pyplot as plt\n",
    "%matplotlib inline\n",
    "from numpy import array\n",
    "from scipy.sparse import csr_matrix\n",
    "from time import time\n",
    "import re\n",
    "import string\n",
    "import tensorflow as tf\n",
    "import pickle\n",
    "import operator\n",
    "import warnings\n",
    "warnings.filterwarnings('ignore')\n",
    "\n",
    "import nltk\n",
    "nltk.download('punkt')\n",
    "nltk.download('wordnet')\n",
    "nltk.download('stopwords')\n",
    "from nltk import word_tokenize\n",
    "from nltk.util import ngrams\n",
    "from nltk.corpus import stopwords\n",
    "\n",
    "\n",
    "# sklearn\n",
    "from sklearn.model_selection import GridSearchCV\n",
    "from sklearn.feature_extraction.text import CountVectorizer\n",
    "from sklearn.linear_model import LogisticRegression\n",
    "from sklearn.metrics import confusion_matrix\n",
    "from sklearn import metrics\n",
    "from sklearn.metrics import f1_score\n",
    "\n",
    "# keras\n",
    "from keras.models import Sequential\n",
    "from keras.layers import Dense\n",
    "from keras.layers import Dropout\n",
    "from keras.optimizers import Adam\n",
    "from keras.models import Sequential, load_model\n",
    "from keras.layers import Dense\n",
    "from keras.layers.embeddings import Embedding\n",
    "from keras.preprocessing import sequence\n",
    "from keras.utils import np_utils\n"
   ]
  },
  {
   "cell_type": "code",
   "execution_count": 2,
   "metadata": {},
   "outputs": [
    {
     "name": "stdout",
     "output_type": "stream",
     "text": [
      "4198\n",
      "7667\n",
      "7667\n"
     ]
    }
   ],
   "source": [
    "df_train = pd.read_pickle('train_prepared_a.pkl')\n",
    "print(len(df_train))\n",
    "df_valid = pd.read_pickle('valid_prepared_a.pkl')\n",
    "print(len(df_valid))\n",
    "df_test = pd.read_pickle('test_prepared_a.pkl')\n",
    "print(len(df_test))"
   ]
  },
  {
   "cell_type": "markdown",
   "metadata": {},
   "source": [
    "####  CountVectorizer from scikit-learn package simply counts how many times each word occurs in the note."
   ]
  },
  {
   "cell_type": "code",
   "execution_count": 3,
   "metadata": {},
   "outputs": [],
   "source": [
    "vocabulary_size = 20000"
   ]
  },
  {
   "cell_type": "code",
   "execution_count": 4,
   "metadata": {},
   "outputs": [
    {
     "data": {
      "text/plain": [
       "(4198, 29079)"
      ]
     },
     "execution_count": 4,
     "metadata": {},
     "output_type": "execute_result"
    }
   ],
   "source": [
    "vect = CountVectorizer(max_features = 50000)\n",
    "vect.fit(df_train.TEXT.values)\n",
    "X_train_tf = vect.transform(df_train.TEXT.values)\n",
    "X_train_tf.shape"
   ]
  },
  {
   "cell_type": "markdown",
   "metadata": {},
   "source": [
    "#### Finding most frequent words to use them as Stop-Words:¶"
   ]
  },
  {
   "cell_type": "code",
   "execution_count": 5,
   "metadata": {},
   "outputs": [
    {
     "data": {
      "image/png": "[encoded data removed]",
      "text/plain": [
       "<Figure size 432x576 with 1 Axes>"
      ]
     },
     "metadata": {
      "needs_background": "light"
     },
     "output_type": "display_data"
    }
   ],
   "source": [
    "sum_words = X_train_tf.sum(axis=0) \n",
    "words_freq = [(word, sum_words[0, idx]) for word, idx in     vect.vocabulary_.items()]\n",
    "words_freq =sorted(words_freq, key = lambda x: x[1], reverse=True)\n",
    "words_freq_plot = words_freq[:30]\n",
    "values = [value[0] for value in words_freq_plot]\n",
    "freq = [value[1] for value in words_freq_plot]\n",
    "fig, axes = plt.subplots(nrows = 1, ncols = 1, figsize = (6,8), sharex=True)\n",
    "plt.barh(range(len(values)),freq, align = 'center')\n",
    "plt.yticks(range(len(values)),values)\n",
    "plt.title(\"Top 30 Frequent Words\")\n",
    "plt.gca().invert_yaxis()\n",
    "plt.xlabel('Frequncy')\n",
    "plt.tight_layout()\n",
    "plt.show()"
   ]
  },
  {
   "cell_type": "markdown",
   "metadata": {},
   "source": [
    "#### We can see the most frequent words. Now we can make our own stop words:"
   ]
  },
  {
   "cell_type": "code",
   "execution_count": 6,
   "metadata": {},
   "outputs": [],
   "source": [
    "my_stop_words = ['the','and','to','of','was','with','a','on','in','for','name',\n",
    "                 'is','patient','s','he','at','as','or','one','she','his','her','am',\n",
    "                 'were','you','pt','pm','by','be','had','your','this','date',\n",
    "                 'from','there','an','that','p','are','have','has','h','but','o',\n",
    "                 'namepattern','which','every','also']"
   ]
  },
  {
   "cell_type": "markdown",
   "metadata": {},
   "source": [
    "## Bag-of-Words "
   ]
  },
  {
   "cell_type": "markdown",
   "metadata": {},
   "source": [
    "### Before train the models let us select the parameter of the vectorizer, number of features. "
   ]
  },
  {
   "cell_type": "code",
   "execution_count": 7,
   "metadata": {},
   "outputs": [
    {
     "name": "stdout",
     "output_type": "stream",
     "text": [
      "[0 1 0 0 1 0 0 1 1 0]\n",
      "(4198,)\n",
      "(4198, 29079)\n",
      "(7667, 29079)\n"
     ]
    }
   ],
   "source": [
    "from sklearn import preprocessing\n",
    "from sklearn import svm\n",
    "\n",
    "X_train_tf = vect.transform(df_train.TEXT.values)\n",
    "X_valid_tf = vect.transform(df_valid.TEXT.values)\n",
    "X_test_tf = vect.transform(df_test.TEXT.values)\n",
    "\n",
    "# Response:\n",
    "\n",
    "y_train_labels = df_train.OUTPUT_LABEL\n",
    "y_valid_labels = df_valid.OUTPUT_LABEL\n",
    "y_test_labels = df_test.OUTPUT_LABEL\n",
    "\n",
    "\n",
    "le = preprocessing.LabelEncoder()\n",
    "le.fit(y_train_labels)\n",
    "y_train=np.array(le.transform(y_train_labels))\n",
    "\n",
    "\n",
    "le.fit(y_valid_labels)\n",
    "y_valid=np.array(le.transform(y_valid_labels))\n",
    "\n",
    "le.fit(y_test_labels)\n",
    "y_test=np.array(le.transform(y_test_labels))\n",
    "\n",
    "print(y_train[:10])\n",
    "print(y_train.shape)\n",
    "print(X_train_tf.shape)\n",
    "print(X_test_tf.shape)"
   ]
  },
  {
   "cell_type": "markdown",
   "metadata": {},
   "source": [
    "### We try 8 options and select the best AUC score. "
   ]
  },
  {
   "cell_type": "code",
   "execution_count": 8,
   "metadata": {},
   "outputs": [
    {
     "name": "stdout",
     "output_type": "stream",
     "text": [
      "3000 AUC train:  0.7411525168749109\n",
      "3000 F1 train:  0.6715299586341796\n",
      "3000 AUC valid:  0.6938545095577664\n",
      "3000 F1 valid :  0.5096939633151114\n",
      "\n",
      "5000 AUC train:  0.7437647546950032\n",
      "5000 F1 train:  0.6741513149691218\n",
      "5000 AUC valid:  0.6940378916713501\n",
      "5000 F1 valid :  0.5093238322794714\n",
      "\n",
      "10000 AUC train:  0.7449872338764278\n",
      "10000 F1 train:  0.6746501963058396\n",
      "10000 AUC valid:  0.6941266936235332\n",
      "10000 F1 valid :  0.5098577760793\n",
      "\n",
      "12000 AUC train:  0.7450846055007933\n",
      "12000 F1 train:  0.6746501963058396\n",
      "12000 AUC valid:  0.6941187866003936\n",
      "12000 F1 valid :  0.5098577760793\n",
      "\n",
      "15000 AUC train:  0.7451885593561761\n",
      "15000 F1 train:  0.6746501963058396\n",
      "15000 AUC valid:  0.694126085390984\n",
      "15000 F1 valid :  0.5098577760793\n",
      "\n",
      "20000 AUC train:  0.7452700428367055\n",
      "20000 F1 train:  0.6746501963058396\n",
      "20000 AUC valid:  0.6941349047629474\n",
      "20000 F1 valid :  0.5098577760793\n",
      "\n",
      "25000 AUC train:  0.7453122599046121\n",
      "25000 F1 train:  0.6746501963058396\n",
      "25000 AUC valid:  0.6941355129954966\n",
      "25000 F1 valid :  0.5098577760793\n",
      "\n",
      "50000 AUC train:  0.7453415394839666\n",
      "50000 F1 train:  0.6746501963058396\n",
      "50000 AUC valid:  0.6941297347862792\n",
      "50000 F1 valid :  0.5098577760793\n",
      "\n",
      "25000\n"
     ]
    }
   ],
   "source": [
    "names = ['3000', '5000', '10000', '12000',\n",
    "        '15000', '20000', '25000', '50000']\n",
    "\n",
    "vectorizers = [\n",
    "    CountVectorizer(max_features = 3000, stop_words = my_stop_words),\n",
    "    CountVectorizer(max_features = 5000, stop_words = my_stop_words),\n",
    "    CountVectorizer(max_features = 10000, stop_words = my_stop_words),\n",
    "    CountVectorizer(max_features = 12000, stop_words = my_stop_words),\n",
    "    CountVectorizer(max_features = 15000, stop_words = my_stop_words),\n",
    "    CountVectorizer(max_features = 20000, stop_words = my_stop_words),\n",
    "    CountVectorizer(max_features = 25000, stop_words = my_stop_words),\n",
    "    CountVectorizer(max_features = 50000, stop_words = my_stop_words)\n",
    "]\n",
    "\n",
    "auc_train = []\n",
    "auc_valid = []\n",
    "F1_train = []\n",
    "F1_valid = []\n",
    "\n",
    "clf = LogisticRegression(C = 0.0001, penalty = 'l2', random_state = 42, n_jobs=-1)\n",
    "\n",
    "for name, vect in zip(names, vectorizers):\n",
    "    vect.fit(df_train.TEXT.values)\n",
    "    X_train_tf = vect.transform(df_train.TEXT.values)\n",
    "    X_valid_tf = vect.transform(df_valid.TEXT.values)\n",
    "    clf.fit(X_train_tf, y_train)\n",
    "    \n",
    "    y_train_pred = clf.predict_proba(X_train_tf)[:, 1]\n",
    "    fpr, tpr, _ = metrics.roc_curve(np.array(y_train), y_train_pred)\n",
    "    auc_tr = metrics.auc(fpr,tpr)\n",
    "    auc_train.append(auc_tr)\n",
    "    \n",
    "    y_train_preds = clf.predict(X_train_tf)\n",
    "    f1_tr = metrics.f1_score(y_train, y_train_preds, average='macro')\n",
    "    F1_train.append(f1_tr)\n",
    "    \n",
    "    y_valid_pred = clf.predict_proba(X_valid_tf)[:, 1]\n",
    "    fpr, tpr, _ = metrics.roc_curve(np.array(y_valid), y_valid_pred)\n",
    "    auc_val = metrics.auc(fpr,tpr)\n",
    "    auc_valid.append(auc_val)\n",
    "    \n",
    "    y_valid_pred = clf.predict(X_valid_tf)\n",
    "    f1_val = metrics.f1_score(y_valid, y_valid_pred, average='macro')\n",
    "    F1_valid.append(f1_val)\n",
    "    \n",
    "    print(name, 'AUC train: ', auc_tr)\n",
    "    print(name, 'F1 train: ', f1_tr)\n",
    "    print(name, 'AUC valid: ', auc_val)\n",
    "    print(name, 'F1 valid : ', f1_val)\n",
    "    print()\n",
    "    \n",
    "d = dict(zip(names, auc_valid))\n",
    "\n",
    "print(max(d.items(), key=operator.itemgetter(1))[0])\n",
    "\n",
    "#save the best number of features \n",
    "bestF = int(max(d.items(), key=operator.itemgetter(1))[0])"
   ]
  },
  {
   "cell_type": "markdown",
   "metadata": {},
   "source": [
    "### Vectorize the text with the best number of features. "
   ]
  },
  {
   "cell_type": "code",
   "execution_count": 9,
   "metadata": {},
   "outputs": [
    {
     "data": {
      "text/plain": [
       "CountVectorizer(analyzer='word', binary=False, decode_error='strict',\n",
       "                dtype=<class 'numpy.int64'>, encoding='utf-8', input='content',\n",
       "                lowercase=True, max_df=1.0, max_features=25000, min_df=1,\n",
       "                ngram_range=(1, 1), preprocessor=None,\n",
       "                stop_words=['the', 'and', 'to', 'of', 'was', 'with', 'a', 'on',\n",
       "                            'in', 'for', 'name', 'is', 'patient', 's', 'he',\n",
       "                            'at', 'as', 'or', 'one', 'she', 'his', 'her', 'am',\n",
       "                            'were', 'you', 'pt', 'pm', 'by', 'be', 'had', ...],\n",
       "                strip_accents=None, token_pattern='(?u)\\\\b\\\\w\\\\w+\\\\b',\n",
       "                tokenizer=None, vocabulary=None)"
      ]
     },
     "execution_count": 9,
     "metadata": {},
     "output_type": "execute_result"
    }
   ],
   "source": [
    "vect = CountVectorizer(max_features = bestF,  \n",
    "                       stop_words = my_stop_words)\n",
    "vect.fit(df_train.TEXT.values)"
   ]
  },
  {
   "cell_type": "code",
   "execution_count": 10,
   "metadata": {},
   "outputs": [
    {
     "name": "stdout",
     "output_type": "stream",
     "text": [
      "(4198, 25000)\n",
      "(7667, 25000)\n",
      "(7667, 25000)\n"
     ]
    }
   ],
   "source": [
    "X_train_tf = vect.transform(df_train.TEXT.values)\n",
    "X_valid_tf = vect.transform(df_valid.TEXT.values)\n",
    "X_test_tf = vect.transform(df_test.TEXT.values)\n",
    "print(X_train_tf.shape)\n",
    "print(X_valid_tf.shape)\n",
    "print(X_test_tf.shape)"
   ]
  },
  {
   "cell_type": "code",
   "execution_count": 11,
   "metadata": {},
   "outputs": [],
   "source": [
    "Model = []\n",
    "AUC_train = []\n",
    "F1_train = []\n",
    "AUC_valid = []\n",
    "F1_valid = []"
   ]
  },
  {
   "cell_type": "markdown",
   "metadata": {},
   "source": [
    "### Logistic Regression for BoW"
   ]
  },
  {
   "cell_type": "markdown",
   "metadata": {},
   "source": [
    "### Let us do some experiments with Logistic Regression classifier and select the model with the best parameters and performance. We start with a baseline model. "
   ]
  },
  {
   "cell_type": "code",
   "execution_count": 12,
   "metadata": {},
   "outputs": [
    {
     "data": {
      "text/plain": [
       "LogisticRegression(C=0.0001, class_weight=None, dual=False, fit_intercept=True,\n",
       "                   intercept_scaling=1, l1_ratio=None, max_iter=100,\n",
       "                   multi_class='auto', n_jobs=-1, penalty='l2', random_state=42,\n",
       "                   solver='lbfgs', tol=0.0001, verbose=0, warm_start=False)"
      ]
     },
     "execution_count": 12,
     "metadata": {},
     "output_type": "execute_result"
    }
   ],
   "source": [
    "clf=LogisticRegression(C = 0.0001, penalty = 'l2', n_jobs=-1, random_state = 42)\n",
    "clf.fit(X_train_tf, y_train)"
   ]
  },
  {
   "cell_type": "code",
   "execution_count": 13,
   "metadata": {},
   "outputs": [
    {
     "name": "stdout",
     "output_type": "stream",
     "text": [
      "0.7453122599046121\n",
      "0.6746501963058396\n",
      "0.6941355129954966\n",
      "0.5098577760793\n"
     ]
    }
   ],
   "source": [
    "y_train_pred = clf.predict_proba(X_train_tf)[:, 1]\n",
    "fpr, tpr, _ = metrics.roc_curve(np.array(y_train), y_train_pred)\n",
    "auc_tr = metrics.auc(fpr,tpr)\n",
    "print(auc_tr)\n",
    "    \n",
    "y_train_preds = clf.predict(X_train_tf)\n",
    "f1_tr = metrics.f1_score(y_train, y_train_preds, average='macro')\n",
    "print(f1_tr)\n",
    "\n",
    "y_valid_preds = clf.predict_proba(X_valid_tf)[:, 1]\n",
    "fpr, tpr, _ = metrics.roc_curve(np.array(y_valid), y_valid_preds)\n",
    "auc_valid = metrics.auc(fpr,tpr)\n",
    "print(auc_valid)\n",
    "\n",
    "y_valid_preds = clf.predict(X_valid_tf)\n",
    "f1_valid = metrics.f1_score(y_valid, y_valid_preds, average='macro')\n",
    "print(f1_valid)"
   ]
  },
  {
   "cell_type": "code",
   "execution_count": 14,
   "metadata": {},
   "outputs": [],
   "source": [
    "Model.append('Baseline LogReg')\n",
    "AUC_train.append(auc_tr)\n",
    "F1_train.append(f1_tr)\n",
    "AUC_valid.append(auc_valid)\n",
    "F1_valid.append(f1_valid)"
   ]
  },
  {
   "cell_type": "markdown",
   "metadata": {},
   "source": [
    "### The second LogReg model is trained with 10-fold cross-validation. "
   ]
  },
  {
   "cell_type": "code",
   "execution_count": 15,
   "metadata": {},
   "outputs": [
    {
     "name": "stdout",
     "output_type": "stream",
     "text": [
      "{'Cs': 10, 'class_weight': None, 'cv': 10, 'dual': False, 'fit_intercept': True, 'intercept_scaling': 1.0, 'l1_ratios': None, 'max_iter': 100, 'multi_class': 'auto', 'n_jobs': -1, 'penalty': 'l2', 'random_state': 42, 'refit': True, 'scoring': None, 'solver': 'lbfgs', 'tol': 0.0001, 'verbose': 0}\n"
     ]
    }
   ],
   "source": [
    "from sklearn.linear_model import LogisticRegressionCV\n",
    "clf = LogisticRegressionCV(cv=10, penalty = 'l2', n_jobs=-1, random_state=42)\n",
    "clf.fit(X_train_tf, y_train)\n",
    "print(clf.get_params())"
   ]
  },
  {
   "cell_type": "code",
   "execution_count": 16,
   "metadata": {},
   "outputs": [
    {
     "name": "stdout",
     "output_type": "stream",
     "text": [
      "0.8476273667376262\n",
      "0.7560502959531283\n",
      "0.7002902181608507\n",
      "0.5082553203243952\n"
     ]
    }
   ],
   "source": [
    "y_train_pred = clf.predict_proba(X_train_tf)[:, 1]\n",
    "fpr, tpr, _ = metrics.roc_curve(np.array(y_train), y_train_pred)\n",
    "auc_tr = metrics.auc(fpr,tpr)\n",
    "print(auc_tr)\n",
    "    \n",
    "y_train_preds = clf.predict(X_train_tf)\n",
    "f1_tr = metrics.f1_score(y_train, y_train_preds, average='macro')\n",
    "print(f1_tr)\n",
    "\n",
    "y_valid_preds = clf.predict_proba(X_valid_tf)[:, 1]\n",
    "fpr, tpr, _ = metrics.roc_curve(np.array(y_valid), y_valid_preds)\n",
    "auc_valid = metrics.auc(fpr,tpr)\n",
    "print(auc_valid)\n",
    "\n",
    "y_valid_preds = clf.predict(X_valid_tf)\n",
    "f1_valid = metrics.f1_score(y_valid, y_valid_preds, average='macro')\n",
    "print(f1_valid)"
   ]
  },
  {
   "cell_type": "code",
   "execution_count": 17,
   "metadata": {},
   "outputs": [],
   "source": [
    "Model.append('Cross Validation LogReg')\n",
    "AUC_train.append(auc_tr)\n",
    "F1_train.append(f1_tr)\n",
    "AUC_valid.append(auc_valid)\n",
    "F1_valid.append(f1_valid)"
   ]
  },
  {
   "cell_type": "markdown",
   "metadata": {},
   "source": [
    "### The third model is trained with the parameters chosen after grid-search over hyperparameters, here C, solver and penalty. "
   ]
  },
  {
   "cell_type": "code",
   "execution_count": 18,
   "metadata": {},
   "outputs": [
    {
     "name": "stdout",
     "output_type": "stream",
     "text": [
      "Fitting 10 folds for each of 42 candidates, totalling 420 fits\n"
     ]
    },
    {
     "name": "stderr",
     "output_type": "stream",
     "text": [
      "[Parallel(n_jobs=-1)]: Using backend LokyBackend with 12 concurrent workers.\n",
      "[Parallel(n_jobs=-1)]: Done  26 tasks      | elapsed:    3.6s\n",
      "[Parallel(n_jobs=-1)]: Done 176 tasks      | elapsed:   45.0s\n",
      "[Parallel(n_jobs=-1)]: Done 420 out of 420 | elapsed:  2.7min finished\n"
     ]
    },
    {
     "name": "stdout",
     "output_type": "stream",
     "text": [
      "tuned hyperparameters :(best parameters)  {'C': 0.001, 'penalty': 'l2', 'solver': 'liblinear'}\n",
      "accuracy : 0.6507961131946811\n"
     ]
    }
   ],
   "source": [
    "from sklearn.model_selection import GridSearchCV\n",
    "grid={\"C\":np.logspace(-3,3,7), \n",
    "      \"penalty\":[\"l1\",\"l2\", 'none'], \n",
    "     'solver': ['liblinear', 'lbfgs']} \n",
    "\n",
    "logreg=LogisticRegression()\n",
    "logreg_cv=GridSearchCV(logreg,grid,cv=10, n_jobs=-1, verbose=True)\n",
    "logreg_cv.fit(X_train_tf,y_train)\n",
    "\n",
    "print(\"tuned hyperparameters :(best parameters) \",logreg_cv.best_params_)\n",
    "print(\"accuracy :\",logreg_cv.best_score_)\n"
   ]
  },
  {
   "cell_type": "code",
   "execution_count": 19,
   "metadata": {},
   "outputs": [
    {
     "name": "stdout",
     "output_type": "stream",
     "text": [
      "0.001\n",
      "l2\n",
      "liblinear\n"
     ]
    }
   ],
   "source": [
    "#save the best parameters to pass them to the model \n",
    "bestC = logreg_cv.best_params_['C']\n",
    "print(bestC)\n",
    "bestPenalty = logreg_cv.best_params_['penalty']\n",
    "print(bestPenalty)\n",
    "bestS = logreg_cv.best_params_['solver']\n",
    "print(bestS)"
   ]
  },
  {
   "cell_type": "code",
   "execution_count": 20,
   "metadata": {},
   "outputs": [
    {
     "data": {
      "text/plain": [
       "LogisticRegression(C=0.001, class_weight=None, dual=False, fit_intercept=True,\n",
       "                   intercept_scaling=1, l1_ratio=None, max_iter=100,\n",
       "                   multi_class='auto', n_jobs=-1, penalty='l2', random_state=42,\n",
       "                   solver='liblinear', tol=0.0001, verbose=0, warm_start=False)"
      ]
     },
     "execution_count": 20,
     "metadata": {},
     "output_type": "execute_result"
    }
   ],
   "source": [
    "clf=LogisticRegression(C = bestC, penalty = bestPenalty, solver = bestS, random_state = 42, n_jobs=-1)\n",
    "clf.fit(X_train_tf, y_train)"
   ]
  },
  {
   "cell_type": "code",
   "execution_count": 21,
   "metadata": {},
   "outputs": [
    {
     "name": "stdout",
     "output_type": "stream",
     "text": [
      "0.8625377088070934\n",
      "0.7800956505606441\n",
      "0.7005395935060227\n",
      "0.49081342843765663\n"
     ]
    }
   ],
   "source": [
    "y_train_pred = clf.predict_proba(X_train_tf)[:, 1]\n",
    "fpr, tpr, _ = metrics.roc_curve(np.array(y_train), y_train_pred)\n",
    "auc_tr = metrics.auc(fpr,tpr)\n",
    "print(auc_tr)\n",
    "    \n",
    "y_train_preds = clf.predict(X_train_tf)\n",
    "f1_tr = metrics.f1_score(y_train, y_train_preds, average='macro')\n",
    "print(f1_tr)\n",
    "\n",
    "y_valid_preds = clf.predict_proba(X_valid_tf)[:, 1]\n",
    "fpr, tpr, _ = metrics.roc_curve(np.array(y_valid), y_valid_preds)\n",
    "auc_valid = metrics.auc(fpr,tpr)\n",
    "print(auc_valid)\n",
    "\n",
    "y_valid_preds = clf.predict(X_valid_tf)\n",
    "f1_valid = metrics.f1_score(y_valid, y_valid_preds, average='macro')\n",
    "print(f1_valid)"
   ]
  },
  {
   "cell_type": "code",
   "execution_count": 22,
   "metadata": {},
   "outputs": [],
   "source": [
    "Model.append('After grid-search')\n",
    "AUC_train.append(auc_tr)\n",
    "F1_train.append(f1_tr)\n",
    "AUC_valid.append(auc_valid)\n",
    "F1_valid.append(f1_valid)"
   ]
  },
  {
   "cell_type": "markdown",
   "metadata": {},
   "source": [
    "### Logistic Regression on n-grams up to 3-grams"
   ]
  },
  {
   "cell_type": "code",
   "execution_count": 23,
   "metadata": {},
   "outputs": [],
   "source": [
    "vect = CountVectorizer(max_features = 25000,  \n",
    "                       stop_words = my_stop_words,\n",
    "                       ngram_range= (1,3))\n",
    "vect.fit(df_train.TEXT.values)\n",
    "\n",
    "X_train_tf = vect.transform(df_train.TEXT.values)\n",
    "X_valid_tf = vect.transform(df_valid.TEXT.values)\n",
    "X_test_tf = vect.transform(df_test.TEXT.values)\n",
    "\n",
    "X_train_Array = X_train_tf.todense()\n",
    "X_valid_Array = X_valid_tf.todense()\n",
    "X_test_Array = X_test_tf.todense()"
   ]
  },
  {
   "cell_type": "code",
   "execution_count": 24,
   "metadata": {},
   "outputs": [
    {
     "name": "stdout",
     "output_type": "stream",
     "text": [
      "{'Cs': 10, 'class_weight': None, 'cv': 10, 'dual': False, 'fit_intercept': True, 'intercept_scaling': 1.0, 'l1_ratios': None, 'max_iter': 100, 'multi_class': 'auto', 'n_jobs': -1, 'penalty': 'l2', 'random_state': 42, 'refit': True, 'scoring': None, 'solver': 'lbfgs', 'tol': 0.0001, 'verbose': 0}\n"
     ]
    }
   ],
   "source": [
    "from sklearn.linear_model import LogisticRegressionCV\n",
    "clf = LogisticRegressionCV(cv=10, penalty = 'l2', n_jobs=-1, random_state=42)\n",
    "clf.fit(X_train_tf, y_train)\n",
    "print(clf.get_params())"
   ]
  },
  {
   "cell_type": "code",
   "execution_count": 25,
   "metadata": {},
   "outputs": [
    {
     "name": "stdout",
     "output_type": "stream",
     "text": [
      "0.8971143953165384\n",
      "0.8118226217567215\n",
      "0.7002683217890796\n",
      "0.501867748421849\n"
     ]
    }
   ],
   "source": [
    "y_train_pred = clf.predict_proba(X_train_tf)[:, 1]\n",
    "fpr, tpr, _ = metrics.roc_curve(np.array(y_train), y_train_pred)\n",
    "auc_tr = metrics.auc(fpr,tpr)\n",
    "print(auc_tr)\n",
    "    \n",
    "y_train_preds = clf.predict(X_train_tf)\n",
    "f1_tr = metrics.f1_score(y_train, y_train_preds, average='macro')\n",
    "print(f1_tr)\n",
    "\n",
    "y_valid_preds = clf.predict_proba(X_valid_tf)[:, 1]\n",
    "fpr, tpr, _ = metrics.roc_curve(np.array(y_valid), y_valid_preds)\n",
    "auc_valid = metrics.auc(fpr,tpr)\n",
    "print(auc_valid)\n",
    "\n",
    "y_valid_preds = clf.predict(X_valid_tf)\n",
    "f1_valid = metrics.f1_score(y_valid, y_valid_preds, average='macro')\n",
    "print(f1_valid)"
   ]
  },
  {
   "cell_type": "code",
   "execution_count": 26,
   "metadata": {},
   "outputs": [],
   "source": [
    "Model.append('LogReg N-Grams')\n",
    "AUC_train.append(auc_tr)\n",
    "F1_train.append(f1_tr)\n",
    "AUC_valid.append(auc_valid)\n",
    "F1_valid.append(f1_valid)"
   ]
  },
  {
   "cell_type": "code",
   "execution_count": 27,
   "metadata": {},
   "outputs": [
    {
     "data": {
      "text/html": [
       "<div>\n",
       "<style scoped>\n",
       "    .dataframe tbody tr th:only-of-type {\n",
       "        vertical-align: middle;\n",
       "    }\n",
       "\n",
       "    .dataframe tbody tr th {\n",
       "        vertical-align: top;\n",
       "    }\n",
       "\n",
       "    .dataframe thead th {\n",
       "        text-align: right;\n",
       "    }\n",
       "</style>\n",
       "<table border=\"1\" class=\"dataframe\">\n",
       "  <thead>\n",
       "    <tr style=\"text-align: right;\">\n",
       "      <th></th>\n",
       "      <th>Model</th>\n",
       "      <th>AUC train</th>\n",
       "      <th>AUC validation</th>\n",
       "      <th>F1 train</th>\n",
       "      <th>F1 validation</th>\n",
       "    </tr>\n",
       "  </thead>\n",
       "  <tbody>\n",
       "    <tr>\n",
       "      <th>0</th>\n",
       "      <td>Baseline LogReg</td>\n",
       "      <td>0.745312</td>\n",
       "      <td>0.694136</td>\n",
       "      <td>0.674650</td>\n",
       "      <td>0.509858</td>\n",
       "    </tr>\n",
       "    <tr>\n",
       "      <th>1</th>\n",
       "      <td>Cross Validation LogReg</td>\n",
       "      <td>0.847627</td>\n",
       "      <td>0.700290</td>\n",
       "      <td>0.756050</td>\n",
       "      <td>0.508255</td>\n",
       "    </tr>\n",
       "    <tr>\n",
       "      <th>2</th>\n",
       "      <td>After grid-search</td>\n",
       "      <td>0.862538</td>\n",
       "      <td>0.700540</td>\n",
       "      <td>0.780096</td>\n",
       "      <td>0.490813</td>\n",
       "    </tr>\n",
       "    <tr>\n",
       "      <th>3</th>\n",
       "      <td>LogReg N-Grams</td>\n",
       "      <td>0.897114</td>\n",
       "      <td>0.700268</td>\n",
       "      <td>0.811823</td>\n",
       "      <td>0.501868</td>\n",
       "    </tr>\n",
       "  </tbody>\n",
       "</table>\n",
       "</div>"
      ],
      "text/plain": [
       "                     Model  AUC train  AUC validation  F1 train  F1 validation\n",
       "0          Baseline LogReg   0.745312        0.694136  0.674650       0.509858\n",
       "1  Cross Validation LogReg   0.847627        0.700290  0.756050       0.508255\n",
       "2        After grid-search   0.862538        0.700540  0.780096       0.490813\n",
       "3           LogReg N-Grams   0.897114        0.700268  0.811823       0.501868"
      ]
     },
     "execution_count": 27,
     "metadata": {},
     "output_type": "execute_result"
    }
   ],
   "source": [
    "results = pd.DataFrame({'Model': Model, 'AUC train': AUC_train, \n",
    "                       'AUC validation': AUC_valid,\n",
    "                       'F1 train': F1_train, 'F1 validation': F1_valid})\n",
    "results"
   ]
  },
  {
   "cell_type": "code",
   "execution_count": 28,
   "metadata": {},
   "outputs": [],
   "source": [
    "results.to_csv('LogReg_training_results.csv', sep='\\t', index=False)"
   ]
  },
  {
   "cell_type": "markdown",
   "metadata": {},
   "source": [
    "### After the experiments are done, we can see that the best result is on the model after grid-search, but it tends to overfitting more than others and if we pay attention to F1 score, it is the worst. The difference in AUC score is not significant, it is 0.003. In my opinion, the best model is Cross Validation, which performs well both on AUC and F1. "
   ]
  },
  {
   "cell_type": "code",
   "execution_count": 29,
   "metadata": {},
   "outputs": [
    {
     "name": "stdout",
     "output_type": "stream",
     "text": [
      "{'Cs': 10, 'class_weight': None, 'cv': 10, 'dual': False, 'fit_intercept': True, 'intercept_scaling': 1.0, 'l1_ratios': None, 'max_iter': 100, 'multi_class': 'auto', 'n_jobs': -1, 'penalty': 'l2', 'random_state': 42, 'refit': True, 'scoring': None, 'solver': 'lbfgs', 'tol': 0.0001, 'verbose': 0}\n"
     ]
    }
   ],
   "source": [
    "from sklearn.linear_model import LogisticRegressionCV\n",
    "clf = LogisticRegressionCV(cv=10, penalty = 'l2', n_jobs=-1, random_state=42)\n",
    "clf.fit(X_train_tf, y_train)\n",
    "print(clf.get_params())"
   ]
  },
  {
   "cell_type": "code",
   "execution_count": 30,
   "metadata": {},
   "outputs": [],
   "source": [
    "training = []\n",
    "validation = []\n",
    "test = []\n",
    "metric = []"
   ]
  },
  {
   "cell_type": "code",
   "execution_count": 31,
   "metadata": {},
   "outputs": [
    {
     "name": "stdout",
     "output_type": "stream",
     "text": [
      "TRAINING\n",
      "AUC  0.8971143953165384\n",
      "F1  0.8118226217567215\n",
      "Precision  0.8135914211786346\n",
      "Recall  0.8120533587422583\n",
      "Accuracy  0.8120533587422583\n",
      "\n",
      "VALIDATION\n",
      "AUC  0.7002683217890796\n",
      "F1  0.501867748421849\n",
      "Precision  0.5400811130845727\n",
      "Recall  0.6556645001423265\n",
      "Accuracy  0.6942741619929568\n",
      "\n",
      "TEST\n",
      "AUC  0.6882860900211732\n",
      "F1  0.49955842127944233\n",
      "Precision  0.538846353952737\n",
      "Recall  0.6532053619971354\n",
      "Accuracy  0.6931002999869571\n",
      "[[5041 2177]\n",
      " [ 176  273]]\n"
     ]
    }
   ],
   "source": [
    "from sklearn.metrics import precision_score\n",
    "from sklearn.metrics import recall_score\n",
    "from sklearn.metrics import accuracy_score\n",
    "from sklearn.metrics import confusion_matrix\n",
    "print('TRAINING')\n",
    "y_train_pred = clf.predict_proba(X_train_tf)[:, 1]\n",
    "fpr, tpr, _ = metrics.roc_curve(np.array(y_train), y_train_pred)\n",
    "auc_tr = metrics.auc(fpr,tpr)\n",
    "print('AUC ', auc_tr)\n",
    "    \n",
    "y_train_preds = clf.predict(X_train_tf)\n",
    "f1_tr = metrics.f1_score(y_train, y_train_preds, average='macro')\n",
    "prec_tr = precision_score(y_train, y_train_preds, average='macro') \n",
    "recall_tr = recall_score(y_train, y_train_preds, average='macro')\n",
    "accuracy_tr = accuracy_score(y_train, y_train_preds)\n",
    "print('F1 ', f1_tr)\n",
    "print('Precision ', prec_tr)\n",
    "print('Recall ', recall_tr)\n",
    "print('Accuracy ', accuracy_tr)\n",
    "print()\n",
    "print('VALIDATION')\n",
    "y_valid_pred = clf.predict_proba(X_valid_tf)[:, 1]\n",
    "fpr, tpr, _ = metrics.roc_curve(np.array(y_valid), y_valid_pred)\n",
    "auc_valid = metrics.auc(fpr,tpr)\n",
    "print('AUC ', auc_valid)\n",
    "\n",
    "y_valid_preds = clf.predict(X_valid_tf)\n",
    "f1_valid = metrics.f1_score(y_valid, y_valid_preds, average='macro')\n",
    "prec_val = precision_score(y_valid, y_valid_preds, average='macro') \n",
    "recall_val = recall_score(y_valid, y_valid_preds, average='macro')\n",
    "accuracy_val = accuracy_score(y_valid, y_valid_preds)\n",
    "print('F1 ', f1_valid)\n",
    "print('Precision ', prec_val)\n",
    "print('Recall ', recall_val)\n",
    "print('Accuracy ', accuracy_val)\n",
    "print()\n",
    "print('TEST')\n",
    "y_test_pred = clf.predict_proba(X_test_tf)[:, 1]\n",
    "fpr, tpr, _ = metrics.roc_curve(np.array(y_test), y_test_pred)\n",
    "auc_test = metrics.auc(fpr,tpr)\n",
    "print('AUC ', auc_test)\n",
    "y_test_preds = clf.predict(X_test_tf)\n",
    "f1_test = metrics.f1_score(y_test, y_test_preds, average='macro')\n",
    "prec_test = precision_score(y_test, y_test_preds, average='macro') \n",
    "recall_test = recall_score(y_test, y_test_preds, average='macro')\n",
    "accuracy_test = accuracy_score(y_test, y_test_preds)\n",
    "print('F1 ', f1_test)\n",
    "print('Precision ', prec_test)\n",
    "print('Recall ', recall_test)\n",
    "print('Accuracy ', accuracy_test)\n",
    "\n",
    "cm = metrics.confusion_matrix(y_test, y_test_preds)\n",
    "print(cm)"
   ]
  },
  {
   "cell_type": "code",
   "execution_count": 32,
   "metadata": {},
   "outputs": [],
   "source": [
    "metric.append('AUC')\n",
    "training.append(auc_tr)\n",
    "validation.append(auc_valid)\n",
    "test.append(auc_test)\n",
    "\n",
    "metric.append('Accuracy')\n",
    "training.append(accuracy_tr)\n",
    "validation.append(accuracy_val)\n",
    "test.append(accuracy_test)\n",
    "\n",
    "metric.append('Precision')\n",
    "training.append(prec_tr)\n",
    "validation.append(prec_val)\n",
    "test.append(prec_test)\n",
    "\n",
    "metric.append('Recall')\n",
    "training.append(recall_tr)\n",
    "validation.append(recall_val)\n",
    "test.append(recall_test)\n",
    "\n",
    "metric.append('F1')\n",
    "training.append(f1_tr)\n",
    "validation.append(f1_valid)\n",
    "test.append(f1_test)\n"
   ]
  },
  {
   "cell_type": "markdown",
   "metadata": {},
   "source": [
    "### Performance of the best LogReg model"
   ]
  },
  {
   "cell_type": "code",
   "execution_count": 33,
   "metadata": {},
   "outputs": [
    {
     "data": {
      "text/html": [
       "<div>\n",
       "<style scoped>\n",
       "    .dataframe tbody tr th:only-of-type {\n",
       "        vertical-align: middle;\n",
       "    }\n",
       "\n",
       "    .dataframe tbody tr th {\n",
       "        vertical-align: top;\n",
       "    }\n",
       "\n",
       "    .dataframe thead th {\n",
       "        text-align: right;\n",
       "    }\n",
       "</style>\n",
       "<table border=\"1\" class=\"dataframe\">\n",
       "  <thead>\n",
       "    <tr style=\"text-align: right;\">\n",
       "      <th></th>\n",
       "      <th>metric</th>\n",
       "      <th>Training</th>\n",
       "      <th>Validation</th>\n",
       "      <th>Test</th>\n",
       "    </tr>\n",
       "  </thead>\n",
       "  <tbody>\n",
       "    <tr>\n",
       "      <th>0</th>\n",
       "      <td>AUC</td>\n",
       "      <td>0.897114</td>\n",
       "      <td>0.700268</td>\n",
       "      <td>0.688286</td>\n",
       "    </tr>\n",
       "    <tr>\n",
       "      <th>1</th>\n",
       "      <td>Accuracy</td>\n",
       "      <td>0.812053</td>\n",
       "      <td>0.694274</td>\n",
       "      <td>0.693100</td>\n",
       "    </tr>\n",
       "    <tr>\n",
       "      <th>2</th>\n",
       "      <td>Precision</td>\n",
       "      <td>0.813591</td>\n",
       "      <td>0.540081</td>\n",
       "      <td>0.538846</td>\n",
       "    </tr>\n",
       "    <tr>\n",
       "      <th>3</th>\n",
       "      <td>Recall</td>\n",
       "      <td>0.812053</td>\n",
       "      <td>0.655665</td>\n",
       "      <td>0.653205</td>\n",
       "    </tr>\n",
       "    <tr>\n",
       "      <th>4</th>\n",
       "      <td>F1</td>\n",
       "      <td>0.811823</td>\n",
       "      <td>0.501868</td>\n",
       "      <td>0.499558</td>\n",
       "    </tr>\n",
       "  </tbody>\n",
       "</table>\n",
       "</div>"
      ],
      "text/plain": [
       "      metric  Training  Validation      Test\n",
       "0        AUC  0.897114    0.700268  0.688286\n",
       "1   Accuracy  0.812053    0.694274  0.693100\n",
       "2  Precision  0.813591    0.540081  0.538846\n",
       "3     Recall  0.812053    0.655665  0.653205\n",
       "4         F1  0.811823    0.501868  0.499558"
      ]
     },
     "execution_count": 33,
     "metadata": {},
     "output_type": "execute_result"
    }
   ],
   "source": [
    "results_test = pd.DataFrame({'metric': metric, 'Training': training, \n",
    "                       'Validation': validation, 'Test': test})\n",
    "results_test"
   ]
  },
  {
   "cell_type": "code",
   "execution_count": 34,
   "metadata": {},
   "outputs": [],
   "source": [
    "results_test.to_csv('LogReg_test_results.csv', sep='\\t', index=False)"
   ]
  },
  {
   "cell_type": "markdown",
   "metadata": {},
   "source": [
    "### Neural Networks on BoW\n",
    "#### Here I am using a simple one layer neural network to see if I can get a better result than LogReg model."
   ]
  },
  {
   "cell_type": "code",
   "execution_count": 35,
   "metadata": {},
   "outputs": [],
   "source": [
    "vect = CountVectorizer(max_features = 25000,  \n",
    "                       stop_words = my_stop_words)\n",
    "vect.fit(df_train.TEXT.values)\n",
    "\n",
    "X_train_tf = vect.transform(df_train.TEXT.values)\n",
    "X_valid_tf = vect.transform(df_valid.TEXT.values)\n",
    "X_test_tf = vect.transform(df_test.TEXT.values)\n",
    "\n",
    "X_train_Array = X_train_tf.todense()\n",
    "X_valid_Array = X_valid_tf.todense()\n",
    "X_test_Array = X_test_tf.todense()"
   ]
  },
  {
   "cell_type": "markdown",
   "metadata": {},
   "source": [
    "#### In the NN model I changed some things comparing to the given Github. I put binary entropy instead of categorical, because we deal with binary class. I added earlystopping wich saves the time of training, the training stops when the validation loss no changes, and checkpointer to save the best model. I also changed batch size to 2048. "
   ]
  },
  {
   "cell_type": "code",
   "execution_count": 36,
   "metadata": {},
   "outputs": [
    {
     "name": "stdout",
     "output_type": "stream",
     "text": [
      "WARNING:tensorflow:From /home/elena/anaconda3/envs/keras_gpu/lib/python3.6/site-packages/keras/backend/tensorflow_backend.py:74: The name tf.get_default_graph is deprecated. Please use tf.compat.v1.get_default_graph instead.\n",
      "\n",
      "WARNING:tensorflow:From /home/elena/anaconda3/envs/keras_gpu/lib/python3.6/site-packages/keras/backend/tensorflow_backend.py:517: The name tf.placeholder is deprecated. Please use tf.compat.v1.placeholder instead.\n",
      "\n",
      "WARNING:tensorflow:From /home/elena/anaconda3/envs/keras_gpu/lib/python3.6/site-packages/keras/backend/tensorflow_backend.py:4138: The name tf.random_uniform is deprecated. Please use tf.random.uniform instead.\n",
      "\n",
      "WARNING:tensorflow:From /home/elena/anaconda3/envs/keras_gpu/lib/python3.6/site-packages/keras/backend/tensorflow_backend.py:133: The name tf.placeholder_with_default is deprecated. Please use tf.compat.v1.placeholder_with_default instead.\n",
      "\n",
      "WARNING:tensorflow:From /home/elena/anaconda3/envs/keras_gpu/lib/python3.6/site-packages/keras/backend/tensorflow_backend.py:3445: calling dropout (from tensorflow.python.ops.nn_ops) with keep_prob is deprecated and will be removed in a future version.\n",
      "Instructions for updating:\n",
      "Please use `rate` instead of `keep_prob`. Rate should be set to `rate = 1 - keep_prob`.\n",
      "WARNING:tensorflow:From /home/elena/anaconda3/envs/keras_gpu/lib/python3.6/site-packages/keras/optimizers.py:790: The name tf.train.Optimizer is deprecated. Please use tf.compat.v1.train.Optimizer instead.\n",
      "\n",
      "WARNING:tensorflow:From /home/elena/anaconda3/envs/keras_gpu/lib/python3.6/site-packages/keras/backend/tensorflow_backend.py:3376: The name tf.log is deprecated. Please use tf.math.log instead.\n",
      "\n",
      "WARNING:tensorflow:From /home/elena/anaconda3/envs/keras_gpu/lib/python3.6/site-packages/tensorflow/python/ops/nn_impl.py:180: add_dispatch_support.<locals>.wrapper (from tensorflow.python.ops.array_ops) is deprecated and will be removed in a future version.\n",
      "Instructions for updating:\n",
      "Use tf.where in 2.0, which has the same broadcast rule as np.where\n"
     ]
    }
   ],
   "source": [
    "model = Sequential()\n",
    "model.add(Dense(500, input_dim = X_train_tf.shape[1] , activation = 'relu'))\n",
    "model.add(Dropout(0.5))\n",
    "model.add(Dense(1000, activation = 'relu'))\n",
    "model.add(Dropout(0.5))\n",
    "model.add(Dense(500, activation = 'relu'))\n",
    "model.add(Dense(1, activation = 'sigmoid'))\n",
    "model.compile(optimizer=Adam(0.0001), loss= 'binary_crossentropy', metrics=['accuracy'])"
   ]
  },
  {
   "cell_type": "code",
   "execution_count": 37,
   "metadata": {},
   "outputs": [
    {
     "name": "stdout",
     "output_type": "stream",
     "text": [
      "Train on 4198 samples, validate on 7667 samples\n",
      "Epoch 1/500\n",
      "4198/4198 [==============================] - 4s 873us/step - loss: 0.7094 - acc: 0.5021 - val_loss: 0.8023 - val_acc: 0.1806\n",
      "\n",
      "Epoch 00001: val_loss improved from inf to 0.80230, saving model to best_model.hdf5\n",
      "Epoch 2/500\n",
      "4198/4198 [==============================] - 3s 722us/step - loss: 0.6908 - acc: 0.5519 - val_loss: 0.7128 - val_acc: 0.5237\n",
      "\n",
      "Epoch 00002: val_loss improved from 0.80230 to 0.71283, saving model to best_model.hdf5\n",
      "Epoch 3/500\n",
      "4198/4198 [==============================] - 3s 714us/step - loss: 0.6811 - acc: 0.5657 - val_loss: 0.7506 - val_acc: 0.4428\n",
      "\n",
      "Epoch 00003: val_loss did not improve from 0.71283\n",
      "Epoch 4/500\n",
      "4198/4198 [==============================] - 3s 711us/step - loss: 0.6697 - acc: 0.5881 - val_loss: 0.7710 - val_acc: 0.4325\n",
      "\n",
      "Epoch 00004: val_loss did not improve from 0.71283\n",
      "Epoch 5/500\n",
      "4198/4198 [==============================] - 3s 715us/step - loss: 0.6653 - acc: 0.6029 - val_loss: 0.7743 - val_acc: 0.4600\n",
      "\n",
      "Epoch 00005: val_loss did not improve from 0.71283\n",
      "Epoch 6/500\n",
      "4198/4198 [==============================] - 3s 724us/step - loss: 0.6575 - acc: 0.6155 - val_loss: 0.7611 - val_acc: 0.5109\n",
      "\n",
      "Epoch 00006: val_loss did not improve from 0.71283\n",
      "Epoch 7/500\n",
      "4198/4198 [==============================] - 3s 734us/step - loss: 0.6481 - acc: 0.6301 - val_loss: 0.7474 - val_acc: 0.5537\n",
      "\n",
      "Epoch 00007: val_loss did not improve from 0.71283\n",
      "Epoch 8/500\n",
      "4198/4198 [==============================] - 3s 754us/step - loss: 0.6463 - acc: 0.6320 - val_loss: 0.7379 - val_acc: 0.5808\n",
      "\n",
      "Epoch 00008: val_loss did not improve from 0.71283\n",
      "Epoch 9/500\n",
      "4198/4198 [==============================] - 3s 750us/step - loss: 0.6352 - acc: 0.6398 - val_loss: 0.7262 - val_acc: 0.6069\n",
      "\n",
      "Epoch 00009: val_loss did not improve from 0.71283\n",
      "Epoch 10/500\n",
      "4198/4198 [==============================] - 3s 734us/step - loss: 0.6289 - acc: 0.6477 - val_loss: 0.7115 - val_acc: 0.6311\n",
      "\n",
      "Epoch 00010: val_loss improved from 0.71283 to 0.71146, saving model to best_model.hdf5\n",
      "Epoch 11/500\n",
      "4198/4198 [==============================] - 3s 723us/step - loss: 0.6274 - acc: 0.6463 - val_loss: 0.7009 - val_acc: 0.6494\n",
      "\n",
      "Epoch 00011: val_loss improved from 0.71146 to 0.70089, saving model to best_model.hdf5\n",
      "Epoch 12/500\n",
      "4198/4198 [==============================] - 3s 756us/step - loss: 0.6171 - acc: 0.6622 - val_loss: 0.6786 - val_acc: 0.6767\n",
      "\n",
      "Epoch 00012: val_loss improved from 0.70089 to 0.67863, saving model to best_model.hdf5\n",
      "Epoch 13/500\n",
      "4198/4198 [==============================] - 3s 730us/step - loss: 0.6103 - acc: 0.6722 - val_loss: 0.6745 - val_acc: 0.6837\n",
      "\n",
      "Epoch 00013: val_loss improved from 0.67863 to 0.67453, saving model to best_model.hdf5\n",
      "Epoch 14/500\n",
      "4198/4198 [==============================] - 3s 725us/step - loss: 0.5994 - acc: 0.6779 - val_loss: 0.7443 - val_acc: 0.6250\n",
      "\n",
      "Epoch 00014: val_loss did not improve from 0.67453\n",
      "Epoch 15/500\n",
      "4198/4198 [==============================] - 3s 706us/step - loss: 0.5998 - acc: 0.6818 - val_loss: 0.7989 - val_acc: 0.5825\n",
      "\n",
      "Epoch 00015: val_loss did not improve from 0.67453\n",
      "Epoch 16/500\n",
      "4198/4198 [==============================] - 3s 717us/step - loss: 0.5881 - acc: 0.6996 - val_loss: 0.7238 - val_acc: 0.6454\n",
      "\n",
      "Epoch 00016: val_loss did not improve from 0.67453\n",
      "Epoch 17/500\n",
      "4198/4198 [==============================] - 3s 722us/step - loss: 0.5791 - acc: 0.6939 - val_loss: 0.6399 - val_acc: 0.7154\n",
      "\n",
      "Epoch 00017: val_loss improved from 0.67453 to 0.63992, saving model to best_model.hdf5\n",
      "Epoch 18/500\n",
      "4198/4198 [==============================] - 3s 727us/step - loss: 0.5736 - acc: 0.6977 - val_loss: 0.6539 - val_acc: 0.6988\n",
      "\n",
      "Epoch 00018: val_loss did not improve from 0.63992\n",
      "Epoch 19/500\n",
      "4198/4198 [==============================] - 3s 727us/step - loss: 0.5578 - acc: 0.7187 - val_loss: 0.7366 - val_acc: 0.6300\n",
      "\n",
      "Epoch 00019: val_loss did not improve from 0.63992\n",
      "Epoch 20/500\n",
      "4198/4198 [==============================] - 3s 731us/step - loss: 0.5517 - acc: 0.7339 - val_loss: 0.6908 - val_acc: 0.6669\n",
      "\n",
      "Epoch 00020: val_loss did not improve from 0.63992\n",
      "Epoch 21/500\n",
      "4198/4198 [==============================] - 3s 708us/step - loss: 0.5460 - acc: 0.7303 - val_loss: 0.6170 - val_acc: 0.7270\n",
      "\n",
      "Epoch 00021: val_loss improved from 0.63992 to 0.61705, saving model to best_model.hdf5\n",
      "Epoch 22/500\n",
      "4198/4198 [==============================] - 3s 728us/step - loss: 0.5326 - acc: 0.7334 - val_loss: 0.7039 - val_acc: 0.6605\n",
      "\n",
      "Epoch 00022: val_loss did not improve from 0.61705\n",
      "Epoch 23/500\n",
      "4198/4198 [==============================] - 3s 747us/step - loss: 0.5224 - acc: 0.7551 - val_loss: 0.8047 - val_acc: 0.5907\n",
      "\n",
      "Epoch 00023: val_loss did not improve from 0.61705\n",
      "Epoch 24/500\n",
      "4198/4198 [==============================] - 3s 730us/step - loss: 0.5183 - acc: 0.7563 - val_loss: 0.6969 - val_acc: 0.6664\n",
      "\n",
      "Epoch 00024: val_loss did not improve from 0.61705\n",
      "Epoch 25/500\n",
      "4198/4198 [==============================] - 3s 719us/step - loss: 0.4994 - acc: 0.7646 - val_loss: 0.6078 - val_acc: 0.7339\n",
      "\n",
      "Epoch 00025: val_loss improved from 0.61705 to 0.60778, saving model to best_model.hdf5\n",
      "Epoch 26/500\n",
      "4198/4198 [==============================] - 3s 727us/step - loss: 0.4833 - acc: 0.7704 - val_loss: 0.7062 - val_acc: 0.6644\n",
      "\n",
      "Epoch 00026: val_loss did not improve from 0.60778\n",
      "Epoch 27/500\n",
      "4198/4198 [==============================] - 3s 726us/step - loss: 0.4682 - acc: 0.7951 - val_loss: 0.7140 - val_acc: 0.6634\n",
      "\n",
      "Epoch 00027: val_loss did not improve from 0.60778\n",
      "Epoch 28/500\n",
      "4198/4198 [==============================] - 3s 719us/step - loss: 0.4636 - acc: 0.7897 - val_loss: 0.6681 - val_acc: 0.6951\n",
      "\n",
      "Epoch 00028: val_loss did not improve from 0.60778\n",
      "Epoch 29/500\n",
      "4198/4198 [==============================] - 3s 733us/step - loss: 0.4402 - acc: 0.8042 - val_loss: 0.7110 - val_acc: 0.6683\n",
      "\n",
      "Epoch 00029: val_loss did not improve from 0.60778\n",
      "Epoch 30/500\n",
      "4198/4198 [==============================] - 3s 725us/step - loss: 0.4183 - acc: 0.8213 - val_loss: 0.7451 - val_acc: 0.6512\n",
      "\n",
      "Epoch 00030: val_loss did not improve from 0.60778\n",
      "Epoch 31/500\n",
      "4198/4198 [==============================] - 3s 738us/step - loss: 0.4161 - acc: 0.8230 - val_loss: 0.6264 - val_acc: 0.7217\n",
      "\n",
      "Epoch 00031: val_loss did not improve from 0.60778\n",
      "Epoch 32/500\n",
      "4198/4198 [==============================] - 3s 790us/step - loss: 0.4025 - acc: 0.8213 - val_loss: 0.6882 - val_acc: 0.6905\n",
      "\n",
      "Epoch 00032: val_loss did not improve from 0.60778\n",
      "Epoch 33/500\n",
      "4198/4198 [==============================] - 3s 804us/step - loss: 0.3846 - acc: 0.8330 - val_loss: 0.8104 - val_acc: 0.6279\n",
      "\n",
      "Epoch 00033: val_loss did not improve from 0.60778\n",
      "Epoch 00033: early stopping\n"
     ]
    },
    {
     "data": {
      "text/plain": [
       "<keras.callbacks.History at 0x7f0166235b70>"
      ]
     },
     "execution_count": 37,
     "metadata": {},
     "output_type": "execute_result"
    }
   ],
   "source": [
    "from keras.callbacks import ReduceLROnPlateau\n",
    "from keras.callbacks import EarlyStopping\n",
    "from keras.callbacks import ModelCheckpoint\n",
    "import h5py\n",
    "\n",
    "#save the best model \n",
    "file = 'best_model.hdf5'\n",
    "\n",
    "reduce_lr = ReduceLROnPlateau(monitor='val_loss', factor=0.2,\n",
    "                              patience=5, min_lr=0.001)\n",
    "earlystopper = EarlyStopping(patience=8, verbose=1)\n",
    "checkpointer = ModelCheckpoint(filepath = file,\n",
    "                               verbose=1,\n",
    "                               save_best_only=True, save_weights_only = True)\n",
    "history = model.fit(X_train_Array, y_train, \n",
    "                    epochs=500, batch_size=2048, \n",
    "                    callbacks=[earlystopper, checkpointer, reduce_lr], \n",
    "                    validation_data=(X_valid_Array, y_valid))\n",
    "history"
   ]
  },
  {
   "cell_type": "code",
   "execution_count": 38,
   "metadata": {},
   "outputs": [
    {
     "name": "stdout",
     "output_type": "stream",
     "text": [
      "dict_keys(['val_loss', 'val_acc', 'loss', 'acc', 'lr'])\n"
     ]
    }
   ],
   "source": [
    "print(history.history.keys())"
   ]
  },
  {
   "cell_type": "markdown",
   "metadata": {},
   "source": [
    "### The validation curve is volatile because the validation set is very unbalanced. "
   ]
  },
  {
   "cell_type": "code",
   "execution_count": 39,
   "metadata": {
    "scrolled": true
   },
   "outputs": [
    {
     "data": {
      "image/png": "[encoded data removed]",
      "text/plain": [
       "<Figure size 432x288 with 1 Axes>"
      ]
     },
     "metadata": {
      "needs_background": "light"
     },
     "output_type": "display_data"
    },
    {
     "data": {
      "image/png": "[encoded data removed]",
      "text/plain": [
       "<Figure size 432x288 with 1 Axes>"
      ]
     },
     "metadata": {
      "needs_background": "light"
     },
     "output_type": "display_data"
    }
   ],
   "source": [
    "plt.plot(history.history['acc'])\n",
    "plt.plot(history.history['val_acc'])\n",
    "plt.title('model accuracy')\n",
    "plt.ylabel('accuracy')\n",
    "plt.xlabel('epoch')\n",
    "plt.legend(['train', 'validation'], loc='upper left')\n",
    "plt.show()\n",
    "# summarize history for loss\n",
    "plt.plot(history.history['loss'])\n",
    "plt.plot(history.history['val_loss'])\n",
    "plt.title('model loss')\n",
    "plt.ylabel('loss')\n",
    "plt.xlabel('epoch')\n",
    "plt.legend(['train', 'validation'], loc='upper left')\n",
    "plt.show()"
   ]
  },
  {
   "cell_type": "code",
   "execution_count": 40,
   "metadata": {},
   "outputs": [],
   "source": [
    "#load the best model\n",
    "model.load_weights(file)"
   ]
  },
  {
   "cell_type": "code",
   "execution_count": 41,
   "metadata": {},
   "outputs": [
    {
     "name": "stdout",
     "output_type": "stream",
     "text": [
      "Train AUC 0.9040055372451004\n",
      "(4198, 1)\n",
      "Train F1  0.81516112640587\n",
      "Validation AUC 0.7023256683867483\n",
      "(7667, 1)\n",
      "Validation F1  0.5205137612698892\n",
      "Test AUC  0.700495729249013\n",
      "(7667, 1)\n",
      "Test F1  0.5144690701162724\n"
     ]
    }
   ],
   "source": [
    "y_pred = model.predict_proba(X_train_Array)\n",
    "fpr, tpr, _ = metrics.roc_curve(np.array(y_train), y_pred)\n",
    "auc = metrics.auc(fpr,tpr)\n",
    "print('Train AUC', auc)\n",
    "\n",
    "y_pred = model.predict(X_train_Array)\n",
    "print(y_pred.shape)\n",
    "y_pred1 = y_pred\n",
    "f_score_macro = metrics.f1_score(y_train, y_pred.round(), average='macro')\n",
    "print('Train F1 ', f_score_macro)\n",
    "\n",
    "y_pred = model.predict_proba(X_valid_Array)\n",
    "fpr, tpr, _ = metrics.roc_curve(np.array(y_valid), y_pred)\n",
    "auc = metrics.auc(fpr,tpr)\n",
    "print('Validation AUC', auc)\n",
    "\n",
    "y_pred = model.predict(X_valid_Array)\n",
    "print(y_pred.shape)\n",
    "y_pred1 = y_pred\n",
    "f_score_macro = metrics.f1_score(y_valid, y_pred.round(), average='macro')\n",
    "print('Validation F1 ', f_score_macro)\n",
    "\n",
    "y_pred = model.predict_proba(X_test_Array)\n",
    "fpr, tpr, _ = metrics.roc_curve(np.array(y_test), y_pred)\n",
    "auc = metrics.auc(fpr,tpr)\n",
    "print('Test AUC ', auc)\n",
    "\n",
    "y_pred = model.predict(X_test_Array)\n",
    "print(y_pred.shape)\n",
    "f_score_macro = metrics.f1_score(y_test, y_pred.round(), average='macro')\n",
    "print('Test F1 ', f_score_macro)"
   ]
  },
  {
   "cell_type": "markdown",
   "metadata": {},
   "source": [
    "### Test NN model on test set"
   ]
  },
  {
   "cell_type": "code",
   "execution_count": 42,
   "metadata": {},
   "outputs": [],
   "source": [
    "training = []\n",
    "validation = []\n",
    "test = []\n",
    "metric = []"
   ]
  },
  {
   "cell_type": "code",
   "execution_count": 43,
   "metadata": {},
   "outputs": [
    {
     "name": "stdout",
     "output_type": "stream",
     "text": [
      "TRAINING\n",
      "Train AUC 0.9040055372451004\n",
      "F1  0.81516112640587\n",
      "Precision  0.8207482852085408\n",
      "Recall  0.8158646974749881\n",
      "Accuracy  0.8158646974749881\n",
      "\n",
      "VALIDATION\n",
      "Validation AUC 0.7023256683867483\n",
      "F1  0.5205137612698892\n",
      "Precision  0.5431186035645333\n",
      "Recall  0.6531188948657873\n",
      "Accuracy  0.7339246119733924\n",
      "\n",
      "TEST\n",
      "Test AUC  0.700495729249013\n",
      "F1  0.5144690701162724\n",
      "Precision  0.5409700069496625\n",
      "Recall  0.6505426609176144\n",
      "Accuracy  0.7254467197078388\n"
     ]
    }
   ],
   "source": [
    "print('TRAINING')\n",
    "y_pred = model.predict_proba(X_train_Array)\n",
    "fpr, tpr, _ = metrics.roc_curve(np.array(y_train), y_pred)\n",
    "auc_tr = metrics.auc(fpr,tpr)\n",
    "print('Train AUC', auc_tr)\n",
    "    \n",
    "y_train_preds = model.predict(X_train_Array)\n",
    "f1_tr = metrics.f1_score(y_train, y_train_preds.round(), average='macro')\n",
    "prec_tr = precision_score(y_train, y_train_preds.round(), average='macro') \n",
    "recall_tr = recall_score(y_train, y_train_preds.round(), average='macro')\n",
    "accuracy_tr = accuracy_score(y_train, y_train_preds.round())\n",
    "print('F1 ', f1_tr)\n",
    "print('Precision ', prec_tr)\n",
    "print('Recall ', recall_tr)\n",
    "print('Accuracy ', accuracy_tr)\n",
    "print()\n",
    "\n",
    "print('VALIDATION')\n",
    "y_pred = model.predict_proba(X_valid_Array)\n",
    "fpr, tpr, _ = metrics.roc_curve(np.array(y_valid), y_pred)\n",
    "auc_val = metrics.auc(fpr,tpr)\n",
    "print('Validation AUC', auc_val)\n",
    "\n",
    "y_valid_preds = model.predict(X_valid_Array)\n",
    "f1_valid = metrics.f1_score(y_valid, y_valid_preds.round(), average='macro')\n",
    "prec_val = precision_score(y_valid, y_valid_preds.round(), average='macro') \n",
    "recall_val = recall_score(y_valid, y_valid_preds.round(), average='macro')\n",
    "accuracy_val = accuracy_score(y_valid, y_valid_preds.round())\n",
    "print('F1 ', f1_valid)\n",
    "print('Precision ', prec_val)\n",
    "print('Recall ', recall_val)\n",
    "print('Accuracy ', accuracy_val)\n",
    "print()\n",
    "\n",
    "print('TEST')\n",
    "y_pred = model.predict_proba(X_test_Array)\n",
    "fpr, tpr, _ = metrics.roc_curve(np.array(y_test), y_pred)\n",
    "auc_test = metrics.auc(fpr,tpr)\n",
    "print('Test AUC ', auc_test)\n",
    "y_test_preds = model.predict(X_test_Array)\n",
    "f1_test = metrics.f1_score(y_test, y_test_preds.round(), average='macro')\n",
    "prec_test = precision_score(y_test, y_test_preds.round(), average='macro') \n",
    "recall_test = recall_score(y_test, y_test_preds.round(), average='macro')\n",
    "accuracy_test = accuracy_score(y_test, y_test_preds.round())\n",
    "print('F1 ', f1_test)\n",
    "print('Precision ', prec_test)\n",
    "print('Recall ', recall_test)\n",
    "print('Accuracy ', accuracy_test)\n"
   ]
  },
  {
   "cell_type": "code",
   "execution_count": 44,
   "metadata": {},
   "outputs": [],
   "source": [
    "metric.append('AUC')\n",
    "training.append(auc_tr)\n",
    "validation.append(auc_val)\n",
    "test.append(auc_test)\n",
    "\n",
    "metric.append('Accuracy')\n",
    "training.append(accuracy_tr)\n",
    "validation.append(accuracy_val)\n",
    "test.append(accuracy_test)\n",
    "\n",
    "metric.append('Precision')\n",
    "training.append(prec_tr)\n",
    "validation.append(prec_val)\n",
    "test.append(prec_test)\n",
    "\n",
    "metric.append('Recall')\n",
    "training.append(recall_tr)\n",
    "validation.append(recall_val)\n",
    "test.append(recall_test)\n",
    "\n",
    "metric.append('F1')\n",
    "training.append(f1_tr)\n",
    "validation.append(f1_valid)\n",
    "test.append(f1_test)"
   ]
  },
  {
   "cell_type": "code",
   "execution_count": 45,
   "metadata": {},
   "outputs": [
    {
     "data": {
      "text/html": [
       "<div>\n",
       "<style scoped>\n",
       "    .dataframe tbody tr th:only-of-type {\n",
       "        vertical-align: middle;\n",
       "    }\n",
       "\n",
       "    .dataframe tbody tr th {\n",
       "        vertical-align: top;\n",
       "    }\n",
       "\n",
       "    .dataframe thead th {\n",
       "        text-align: right;\n",
       "    }\n",
       "</style>\n",
       "<table border=\"1\" class=\"dataframe\">\n",
       "  <thead>\n",
       "    <tr style=\"text-align: right;\">\n",
       "      <th></th>\n",
       "      <th>metric</th>\n",
       "      <th>Training</th>\n",
       "      <th>Validation</th>\n",
       "      <th>Test</th>\n",
       "    </tr>\n",
       "  </thead>\n",
       "  <tbody>\n",
       "    <tr>\n",
       "      <th>0</th>\n",
       "      <td>AUC</td>\n",
       "      <td>0.904006</td>\n",
       "      <td>0.702326</td>\n",
       "      <td>0.700496</td>\n",
       "    </tr>\n",
       "    <tr>\n",
       "      <th>1</th>\n",
       "      <td>Accuracy</td>\n",
       "      <td>0.815865</td>\n",
       "      <td>0.733925</td>\n",
       "      <td>0.725447</td>\n",
       "    </tr>\n",
       "    <tr>\n",
       "      <th>2</th>\n",
       "      <td>Precision</td>\n",
       "      <td>0.820748</td>\n",
       "      <td>0.543119</td>\n",
       "      <td>0.540970</td>\n",
       "    </tr>\n",
       "    <tr>\n",
       "      <th>3</th>\n",
       "      <td>Recall</td>\n",
       "      <td>0.815865</td>\n",
       "      <td>0.653119</td>\n",
       "      <td>0.650543</td>\n",
       "    </tr>\n",
       "    <tr>\n",
       "      <th>4</th>\n",
       "      <td>F1</td>\n",
       "      <td>0.815161</td>\n",
       "      <td>0.520514</td>\n",
       "      <td>0.514469</td>\n",
       "    </tr>\n",
       "  </tbody>\n",
       "</table>\n",
       "</div>"
      ],
      "text/plain": [
       "      metric  Training  Validation      Test\n",
       "0        AUC  0.904006    0.702326  0.700496\n",
       "1   Accuracy  0.815865    0.733925  0.725447\n",
       "2  Precision  0.820748    0.543119  0.540970\n",
       "3     Recall  0.815865    0.653119  0.650543\n",
       "4         F1  0.815161    0.520514  0.514469"
      ]
     },
     "execution_count": 45,
     "metadata": {},
     "output_type": "execute_result"
    }
   ],
   "source": [
    "results_test = pd.DataFrame({'metric': metric, 'Training': training, \n",
    "                       'Validation': validation, 'Test': test})\n",
    "results_test"
   ]
  },
  {
   "cell_type": "code",
   "execution_count": 46,
   "metadata": {},
   "outputs": [],
   "source": [
    "results_test.to_csv('NN_train_test_results.csv', sep=',', index=False)"
   ]
  },
  {
   "cell_type": "markdown",
   "metadata": {},
   "source": [
    "### Compare the best LogReg model and NN in test performance"
   ]
  },
  {
   "cell_type": "code",
   "execution_count": 50,
   "metadata": {},
   "outputs": [
    {
     "data": {
      "text/html": [
       "<div>\n",
       "<style scoped>\n",
       "    .dataframe tbody tr th:only-of-type {\n",
       "        vertical-align: middle;\n",
       "    }\n",
       "\n",
       "    .dataframe tbody tr th {\n",
       "        vertical-align: top;\n",
       "    }\n",
       "\n",
       "    .dataframe thead th {\n",
       "        text-align: right;\n",
       "    }\n",
       "</style>\n",
       "<table border=\"1\" class=\"dataframe\">\n",
       "  <thead>\n",
       "    <tr style=\"text-align: right;\">\n",
       "      <th></th>\n",
       "      <th>AUC</th>\n",
       "      <th>Accuracy</th>\n",
       "      <th>Precision</th>\n",
       "      <th>Recall</th>\n",
       "      <th>F1</th>\n",
       "    </tr>\n",
       "  </thead>\n",
       "  <tbody>\n",
       "    <tr>\n",
       "      <th>NN</th>\n",
       "      <td>0.700496</td>\n",
       "      <td>0.725447</td>\n",
       "      <td>0.540970</td>\n",
       "      <td>0.650543</td>\n",
       "      <td>0.514469</td>\n",
       "    </tr>\n",
       "    <tr>\n",
       "      <th>Best LogReg</th>\n",
       "      <td>0.688286</td>\n",
       "      <td>0.693100</td>\n",
       "      <td>0.538846</td>\n",
       "      <td>0.653205</td>\n",
       "      <td>0.499558</td>\n",
       "    </tr>\n",
       "  </tbody>\n",
       "</table>\n",
       "</div>"
      ],
      "text/plain": [
       "                  AUC  Accuracy  Precision    Recall        F1\n",
       "NN           0.700496  0.725447   0.540970  0.650543  0.514469\n",
       "Best LogReg  0.688286  0.693100   0.538846  0.653205  0.499558"
      ]
     },
     "execution_count": 50,
     "metadata": {},
     "output_type": "execute_result"
    }
   ],
   "source": [
    "test_best = pd.read_csv('test best.csv', sep=',')\n",
    "test_best"
   ]
  },
  {
   "attachments": {},
   "cell_type": "markdown",
   "metadata": {},
   "source": [
    "### Conclusions\n",
    "- The best model and the most robust is logistic regression is LogReg with cross-validation. \n",
    "- N-grams do not improve the result. \n",
    "- NN outperforms LogReg best model almost in all metrics. \n",
    "- My models do not beat Longs' ones in AUC but do beat in accuracy, precision and recall. I would say that they are more balanced and robust. \n",
    "- F1 for evaluating binary class is important. "
   ]
  },
  {
   "cell_type": "code",
   "execution_count": null,
   "metadata": {},
   "outputs": [],
   "source": []
  }
 ],
 "metadata": {
  "kernelspec": {
   "display_name": "Python 3",
   "language": "python",
   "name": "python3"
  },
  "language_info": {
   "codemirror_mode": {
    "name": "ipython",
    "version": 3
   },
   "file_extension": ".py",
   "mimetype": "text/x-python",
   "name": "python",
   "nbconvert_exporter": "python",
   "pygments_lexer": "ipython3",
   "version": "3.6.10"
  }
 },
 "nbformat": 4,
 "nbformat_minor": 2
}
