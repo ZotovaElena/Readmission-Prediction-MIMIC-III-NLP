{
 "cells": [
  {
   "cell_type": "markdown",
   "metadata": {},
   "source": [
    "#### Bag of Words Approaches:\n",
    "In this notebook I am using bag of words (BoW) type of text vectorization. "
   ]
  },
  {
   "cell_type": "code",
   "execution_count": 21,
   "metadata": {},
   "outputs": [],
   "source": [
    "import pandas as pd\n",
    "import numpy as np\n",
    "import matplotlib.pyplot as plt\n",
    "%matplotlib inline\n",
    "import tensorflow as tf\n",
    "import pickle\n",
    "import warnings\n",
    "warnings.filterwarnings('ignore')"
   ]
  },
  {
   "cell_type": "code",
   "execution_count": 22,
   "metadata": {},
   "outputs": [],
   "source": [
    "df_adm_notes_clean = pd.read_pickle('Prepared_Data.pkl')"
   ]
  },
  {
   "cell_type": "code",
   "execution_count": 23,
   "metadata": {},
   "outputs": [
    {
     "name": "stdout",
     "output_type": "stream",
     "text": [
      "<class 'pandas.core.frame.DataFrame'>\n",
      "Int64Index: 51113 entries, 1 to 58975\n",
      "Data columns (total 12 columns):\n",
      "SUBJECT_ID             51113 non-null int64\n",
      "HADM_ID                51113 non-null int64\n",
      "ADMITTIME              51113 non-null datetime64[ns]\n",
      "DISCHTIME              51113 non-null datetime64[ns]\n",
      "DEATHTIME              5792 non-null datetime64[ns]\n",
      "ADMISSION_TYPE         51113 non-null object\n",
      "NEXT_ADMITTIME         11169 non-null datetime64[ns]\n",
      "NEXT_ADMISSION_TYPE    11169 non-null object\n",
      "DAYS_NEXT_ADMIT        11169 non-null float64\n",
      "CATEGORY               49083 non-null object\n",
      "TEXT                   49083 non-null object\n",
      "OUTPUT_LABEL           51113 non-null int64\n",
      "dtypes: datetime64[ns](4), float64(1), int64(3), object(4)\n",
      "memory usage: 5.1+ MB\n"
     ]
    }
   ],
   "source": [
    "df_adm_notes_clean.info()"
   ]
  },
  {
   "cell_type": "code",
   "execution_count": 24,
   "metadata": {},
   "outputs": [
    {
     "name": "stdout",
     "output_type": "stream",
     "text": [
      "51113\n",
      "EMERGENCY    42071\n",
      "ELECTIVE      7706\n",
      "URGENT        1336\n",
      "Name: ADMISSION_TYPE, dtype: int64\n"
     ]
    }
   ],
   "source": [
    "df_adm_notes_clean = df_adm_notes_clean.reset_index(drop = True)\n",
    "print(len(df_adm_notes_clean))\n",
    "print(df_adm_notes_clean['ADMISSION_TYPE'].value_counts())"
   ]
  },
  {
   "cell_type": "markdown",
   "metadata": {},
   "source": [
    "#### Save 20% of the data for validation:"
   ]
  },
  {
   "cell_type": "code",
   "execution_count": 25,
   "metadata": {},
   "outputs": [
    {
     "name": "stdout",
     "output_type": "stream",
     "text": [
      "10223\n",
      "       SUBJECT_ID  HADM_ID           ADMITTIME           DISCHTIME DEATHTIME  \\\n",
      "20564       21284   126923 2168-05-03 07:15:00 2168-05-10 14:50:00       NaT   \n",
      "9061         9344   116730 2199-05-21 02:59:00 2199-06-26 14:32:00       NaT   \n",
      "4144         4308   109424 2141-04-04 18:38:00 2141-04-06 16:52:00       NaT   \n",
      "45720       82935   157739 2183-01-17 20:44:00 2183-01-19 11:19:00       NaT   \n",
      "26434       27266   165453 2197-10-17 15:27:00 2197-10-26 12:00:00       NaT   \n",
      "\n",
      "      ADMISSION_TYPE      NEXT_ADMITTIME NEXT_ADMISSION_TYPE  DAYS_NEXT_ADMIT  \\\n",
      "20564       ELECTIVE 2171-02-04 04:04:00           EMERGENCY       999.551389   \n",
      "9061       EMERGENCY                 NaT                 NaN              NaN   \n",
      "4144       EMERGENCY                 NaT                 NaN              NaN   \n",
      "45720      EMERGENCY                 NaT                 NaN              NaN   \n",
      "26434      EMERGENCY 2197-11-24 19:46:00           EMERGENCY        29.323611   \n",
      "\n",
      "                CATEGORY                                               TEXT  \\\n",
      "20564  Discharge summary  Admission Date: [**2168-5-3**]        Discharg...   \n",
      "9061   Discharge summary  Admission Date:  [**2199-5-21**]              ...   \n",
      "4144   Discharge summary  Admission Date:  [**2141-4-4**]              D...   \n",
      "45720  Discharge summary  Admission Date:  [**2183-1-17**]              ...   \n",
      "26434  Discharge summary  Admission Date:  [**2197-10-17**]             ...   \n",
      "\n",
      "       OUTPUT_LABEL  \n",
      "20564             0  \n",
      "9061              0  \n",
      "4144              0  \n",
      "45720             0  \n",
      "26434             1  \n",
      "0    9635\n",
      "1     588\n",
      "Name: OUTPUT_LABEL, dtype: int64\n"
     ]
    }
   ],
   "source": [
    "df_valid = df_adm_notes_clean.sample(frac=0.2,random_state=42)\n",
    "print(len(df_valid))\n",
    "print(df_valid.head())\n",
    "print(df_valid['OUTPUT_LABEL'].value_counts())\n",
    "df_valid.to_pickle('df_valid.pkl')"
   ]
  },
  {
   "cell_type": "code",
   "execution_count": 26,
   "metadata": {},
   "outputs": [
    {
     "name": "stdout",
     "output_type": "stream",
     "text": [
      "Positive class  588\n",
      "Negative class  9635\n",
      "1176\n"
     ]
    }
   ],
   "source": [
    "rows_pos = df_valid.OUTPUT_LABEL == 1\n",
    "df_valid_pos = df_valid.loc[rows_pos]\n",
    "print('Positive class ', len(df_valid_pos))\n",
    "df_valid_neg = df_valid.loc[~rows_pos]\n",
    "print('Negative class ', len(df_valid_neg))\n",
    "df_valid = pd.concat([df_valid_pos, df_valid_neg.sample(n = len(df_valid_pos), random_state = 42)],axis = 0)\n",
    "print(len(df_valid))"
   ]
  },
  {
   "cell_type": "code",
   "execution_count": 27,
   "metadata": {},
   "outputs": [],
   "source": [
    "df_valid.to_pickle('df_valid_balanced.pkl')"
   ]
  },
  {
   "cell_type": "code",
   "execution_count": 28,
   "metadata": {},
   "outputs": [],
   "source": [
    "df_train_all=df_adm_notes_clean.drop(df_valid.index)"
   ]
  },
  {
   "cell_type": "markdown",
   "metadata": {},
   "source": [
    "#### As I mentioned in preparation section, data is highly imbalanced. I am going to do down sampling for negative cases:"
   ]
  },
  {
   "cell_type": "code",
   "execution_count": 29,
   "metadata": {},
   "outputs": [
    {
     "name": "stdout",
     "output_type": "stream",
     "text": [
      "Positive class  2416\n",
      "Negative class  47521\n"
     ]
    }
   ],
   "source": [
    "rows_pos = df_train_all.OUTPUT_LABEL == 1\n",
    "df_train_pos = df_train_all.loc[rows_pos]\n",
    "print('Positive class ', len(df_train_pos))\n",
    "df_train_neg = df_train_all.loc[~rows_pos]\n",
    "print('Negative class ', len(df_train_neg))"
   ]
  },
  {
   "cell_type": "markdown",
   "metadata": {},
   "source": [
    "#### Making a balanced dataset (50/50):"
   ]
  },
  {
   "cell_type": "code",
   "execution_count": 30,
   "metadata": {},
   "outputs": [],
   "source": [
    "df_train = pd.concat([df_train_pos, df_train_neg.sample(n = len(df_train_pos), random_state = 42)],axis = 0)"
   ]
  },
  {
   "cell_type": "markdown",
   "metadata": {},
   "source": [
    "#### Shuffling before training:"
   ]
  },
  {
   "cell_type": "code",
   "execution_count": 31,
   "metadata": {},
   "outputs": [
    {
     "data": {
      "text/plain": [
       "4832"
      ]
     },
     "execution_count": 31,
     "metadata": {},
     "output_type": "execute_result"
    }
   ],
   "source": [
    "df_train = df_train.sample(n = len(df_train), random_state = 42).reset_index(drop = True)\n",
    "len(df_train)"
   ]
  },
  {
   "cell_type": "code",
   "execution_count": 32,
   "metadata": {},
   "outputs": [],
   "source": [
    "df_train.to_pickle('df_train.pkl')"
   ]
  },
  {
   "cell_type": "markdown",
   "metadata": {},
   "source": [
    "#### Preprocess for bag-of-words (BoF):"
   ]
  },
  {
   "cell_type": "code",
   "execution_count": 33,
   "metadata": {},
   "outputs": [],
   "source": [
    "def preprocess_text(df):\n",
    "    # This function preprocesses the text by filling not a number and replacing new lines ('\\n') and carriage returns ('\\r')\n",
    "    df.TEXT = df.TEXT.fillna(' ')\n",
    "    df.TEXT = df.TEXT.str.replace('\\n',' ')\n",
    "    df.TEXT = df.TEXT.str.replace('\\r',' ')\n",
    "    return df"
   ]
  },
  {
   "cell_type": "code",
   "execution_count": 34,
   "metadata": {},
   "outputs": [],
   "source": [
    "df_train = preprocess_text(df_train)\n",
    "df_valid = preprocess_text(df_valid)"
   ]
  },
  {
   "cell_type": "code",
   "execution_count": 35,
   "metadata": {},
   "outputs": [
    {
     "name": "stderr",
     "output_type": "stream",
     "text": [
      "[nltk_data] Downloading package punkt to /home/elena/nltk_data...\n",
      "[nltk_data]   Package punkt is already up-to-date!\n",
      "[nltk_data] Downloading package wordnet to /home/elena/nltk_data...\n",
      "[nltk_data]   Package wordnet is already up-to-date!\n",
      "[nltk_data] Downloading package stopwords to /home/elena/nltk_data...\n",
      "[nltk_data]   Package stopwords is already up-to-date!\n",
      "Using TensorFlow backend.\n"
     ]
    }
   ],
   "source": [
    "import nltk\n",
    "nltk.download('punkt')\n",
    "nltk.download('wordnet')\n",
    "nltk.download('stopwords')\n",
    "from nltk import word_tokenize\n",
    "from nltk.stem import PorterStemmer\n",
    "from nltk.stem import WordNetLemmatizer\n",
    "from nltk.util import ngrams\n",
    "from nltk.corpus import stopwords\n",
    "from nltk.stem import SnowballStemmer\n",
    "\n",
    "\n",
    "# sklearn\n",
    "from sklearn.feature_selection import SelectKBest\n",
    "from sklearn.model_selection import GridSearchCV\n",
    "from sklearn.feature_extraction.text import CountVectorizer\n",
    "from sklearn.feature_extraction.text import TfidfVectorizer\n",
    "from sklearn.linear_model import LogisticRegression\n",
    "from sklearn.metrics import confusion_matrix\n",
    "from sklearn import metrics\n",
    "from sklearn.naive_bayes import GaussianNB\n",
    "from sklearn.metrics import f1_score\n",
    "from sklearn.pipeline import Pipeline\n",
    "\n",
    "from numpy import array\n",
    "from scipy.sparse import csr_matrix\n",
    "from time import time\n",
    "import re\n",
    "import string\n",
    "\n",
    "\n",
    "# keras\n",
    "import tensorflow as tf\n",
    "from keras.models import Sequential\n",
    "from keras.layers import Dense\n",
    "from keras.layers import Dropout\n",
    "from keras.optimizers import Adam\n",
    "from keras.models import Sequential, load_model\n",
    "from keras.layers import Dense\n",
    "from keras.layers import LSTM\n",
    "from keras.layers.embeddings import Embedding\n",
    "from keras.preprocessing import sequence\n",
    "from keras.callbacks import TensorBoard\n",
    "from keras.utils import np_utils\n",
    "from keras.utils import to_categorical"
   ]
  },
  {
   "cell_type": "markdown",
   "metadata": {},
   "source": [
    "#### Now lets look at one of the texts:"
   ]
  },
  {
   "cell_type": "code",
   "execution_count": 36,
   "metadata": {},
   "outputs": [
    {
     "data": {
      "text/plain": [
       "\"Admission Date:  [**2110-12-7**]       Discharge Date:  [**2110-12-13**]  Date of Birth:   [**2061-12-15**]       Sex:  M  Service:  HISTORY OF PRESENT ILLNESS:  The patient is a 48 year old male with a history of hepatitis C virus and hepatocellular cancer status post chemoembo in [**5-6**] who presented to [**Hospital3 4298**] E.D. on [**2110-12-7**] with hematemesis since [**2110-12-5**].  He had one episode of hematemesis on [**12-5**]/ and two episodes on [**12-6**] as well as hematemesis and hematochezia on [**12-7**].  At [**Hospital3 4298**] E.D. patient was noted to have a hematocrit of 18 and was transfused two units of packed red blood cells and was noted to be having coagulopathy with INR of 2.1 and was given FFP as well as vitamin K.  Patient denies any past history of varices or upper GI bleed.  He denies recent alcohol or drug use.  He was feeling nauseated and began vomiting and continued to have hematemesis for three days until he was transferred to [**Hospital1 18**] for definitive care.  Patient was transfused a total of five units of packed red blood cells and was given vitamin K to counteract his coagulopathy.  He underwent EGD on [**2110-12-8**] and was banded with sclerotherapy for grade 3 lower esophageal varices in both the lower and mid-esophagus.  Patient also had an abdominal CT on [**2110-12-4**] for followup of chemoembo which showed portal vein thrombosis.  At present patient denied shortness of breath, chest pain, headache, nausea, vomiting. No fever, or chills.  He states he feels much better now.  PAST MEDICAL HISTORY:  Significant for hepatitis C virus and alcoholic cirrhosis diagnosed in [**2101**].  Duodenal ulcer status post perforation with repair in [**2101**].  He was diagnosed with hepatocellular carcinoma in [**5-6**].  He had radiotherapy as well as chemoembolization therapy.  ALLERGIES:  No known drug allergies.  MEDICATIONS:  Aldactone 50 mg q.d., Lasix 20 mg q.o.d., Percocet, Dilaudid, Zantac, OxyContin.  SOCIAL HISTORY:  He is a smoker and a former drinker.  Denies drug use.  PHYSICAL EXAMINATION:  Upon admission patient had blood pressure of 130/90, heart rate 99, temperature 99.3, sating 100% in room air.  Generally, he was slightly drowsy and jaundiced in mild distress.  HEENT was normocephalic, atraumatic, slightly icteric.  Pupils were equal, round, and reactive to light bilaterally.  No JVD.  Cardiac exam was regular rate and rhythm with a 3/6 systolic ejection murmur at the left base.  Lungs were clear to auscultation with minimal rales at the left base.  Abdomen was distended with mild tenderness in the right lower quadrant, no guarding, no rebound as well as a well healed midline scar.  Extremities revealed trace pedal edema bilaterally, no clubbing or cyanosis.  Skin exam revealed diffuse spider angioma.  No caput medusae.  Neuro he was awake, alert and oriented times three.  Cranial nerves were intact grossly.  He had no focal deficits.  He had minimal asterixis in the left hand upon presentation, however, it resolved upon admission to [**Hospital1 1444**].  LABORATORY DATA:  Patient labs at [**Hospital3 4298**] revealed hematocrit of 18, white count 21.5, platelets 321.  Chem-7 was unremarkable.  LFTs revealed AST of 205, ALT 108, alka phos 208, t-bili 2.8, direct bili 1.9, indirect bili 0.9.  HOSPITAL COURSE:  The patient was transferred to [**Hospital1 346**] and was admitted to the intensive care unit for EGD therapy.  1.  Upper GI bleed.  Patient underwent esophagogastroduodenostomy per GI service.  It was noted that he had grade 3 esophageal varices in the lower third of the esophagus.  He underwent sclerotherapy as well as banding. Patient was started on octreotide for continuation of a five day course status post EGD.  Patient was transfused a total of five units of packed red blood cells and was given vitamin K to correct FFP.  Patient's hematocrit remained stable throughout the hospitalization after banding and octreotide therapy.  Patient had no new episodes of hematemesis nor hematochezia during his hospitalization.  Patient became guaiac negative after two days of passing darkened clots in his stool.  2.  Abdominal distension.  Patient underwent unguided paracentesis with withdrawal of approximately 40 cc of transudative fluid with no cells and cultures were negative. Patient subsequently was ordered for an ultrasound guided paracentesis which revealed trace fluid, no tappable fluid. It was significant, however, for thickened bowel wall secondary to edematous changes from fluid overload.  Patient was to be diuresed with Aldactone and Lasix to remove the excess fluid in the abdominal wall as well as the intestinal wall.  3.  Low grade fever.  Patient had blood cultures drawn times six which were all negative for bacteremia.  Patient also had chest x-ray which was negative for infiltrate.  There was no source found for patient's low grade fever.  It is possible that patient has low grade fever secondary to his hepatocellular carcinoma status post chemoembolization. Patient remained nontoxic appearing throughout his hospitalization and no focus or nidus of infection was found to explain patient's intermittent low grade fever.  4.  Mild hypocalcemia and hyponatremia.  Patient was noted to be hyponatremic to a nadir of 130.  It was felt to be hypervolemic hyponatremia secondary to the low urine sodium and obvious increase in total body water.  Patient was diuresed and improved with diuresis and sodium corrected without further intervention.  It was also noted that patient was mildly hypocalcemic with corrected calcium of 7.8. Patient received p.o. calcium supplementation.  Hypocalcemia was most likely secondary to diuresis as well as hepatic failure secondary to hep C cirrhosis as well as hepatocellular carcinoma.  5.  Hepatocellular carcinoma status post chemoembolization. Patient was seen by Dr. [**First Name8 (NamePattern2) **] [**Last Name (NamePattern1) **] in-house for question of possible further chemoembolization.  Dr. [**First Name (STitle) **] stated that patient was no longer a candidate for chemoembolization, however, he was a possible candidate for oral chemotherapy. Patient will follow up with Dr. [**First Name8 (NamePattern2) **] [**Last Name (NamePattern1) **] in one to two weeks status post discharge.  DISCHARGE STATUS:  The patient is stable for discharge.  DISCHARGE DESTINATION:  Home.  Patient is to be taken home by [**First Name4 (NamePattern1) **] [**Last Name (NamePattern1) **] back to his home in [**Location (un) 3844**].  DISCHARGE DIAGNOSES: 1.  Upper GI bleed secondary to varices status post sclerotherapy as well as band ligation. 2.  Blood loss anemia. 3.  Hepatocellular carcinoma. 4.  Hepatitis C virus. 5.  Right upper extremity superficial thrombophlebitis. 6.  Hyponatremia, hypocalcemia. 7.  Ascites. 8.  Pleural vein thrombosis. 9.  Alcoholic cirrhosis.  DISCHARGE MEDICATIONS: 1.  Furosemide 20 mg p.o. q.d. 2.  Nadolol 20 mg p.o. b.i.d. 3.  Zantac 40 mg p.o. q.24. 4.  Oxycodone 20 mg p.o. q.12. 5.  Simethicone 40 to 80 mg p.o. q.i.d. 6.  Spironolactone 50 mg p.o. b.i.d. 7.  Ciprofloxacin 500 mg p.o. q.12. 8.  Lactulose 30 ml p.o. t.i.d.  FOLLOWUP:  The patient is to follow up with Dr. [**First Name8 (NamePattern2) **] [**Last Name (NamePattern1) **] in one to two weeks status post discharge.  Patient is also to follow up with his PCP in [**Hospital3 4298**].  Patient is also to follow up with GI service, Dr. [**Last Name (STitle) **], in one week, next Thursday, for repeat EGD and banding.                                   [**Name6 (MD) 2415**] [**Last Name (NamePattern4) 3474**], M.D.  [**MD Number(1) 3475**]  Dictated By:[**Last Name (NamePattern1) 41735**] MEDQUIST36  D:  [**2110-12-12**]  12:27 T:  [**2110-12-12**]  12:26 JOB#:  [**Job Number 41736**] \""
      ]
     },
     "execution_count": 36,
     "metadata": {},
     "output_type": "execute_result"
    }
   ],
   "source": [
    "df_train.TEXT[0]"
   ]
  },
  {
   "cell_type": "markdown",
   "metadata": {},
   "source": [
    "#### These texts need lots of cleaning:"
   ]
  },
  {
   "cell_type": "code",
   "execution_count": 37,
   "metadata": {},
   "outputs": [],
   "source": [
    "def clean_text(text):\n",
    "\n",
    "    punc_list = string.punctuation+'0123456789'\n",
    "    t = str.maketrans(dict.fromkeys(punc_list, \" \"))\n",
    "    text = text.lower().translate(t).split()\n",
    "    \n",
    "    ## Remove stop words\n",
    "    stops = set(stopwords.words(\"english\"))\n",
    "    text = [w for w in text if not w in stops and len(w) >= 3]\n",
    "    text = \" \".join(text)\n",
    "    \n",
    "    ## Clean the text\n",
    "    text = re.sub(r\"[^A-Za-z0-9^,!.\\/'+-=]\", \" \", text)\n",
    "    text = re.sub(r\"what's\", \"what is \", text)\n",
    "    text = re.sub(r\"\\'s\", \" \", text)\n",
    "    text = re.sub(r\"\\'ve\", \" have \", text)\n",
    "    text = re.sub(r\"n't\", \" not \", text)\n",
    "    text = re.sub(r\"i'm\", \"i am \", text)\n",
    "    text = re.sub(r\"\\'re\", \" are \", text)\n",
    "    text = re.sub(r\"\\'d\", \" would \", text)\n",
    "    text = re.sub(r\"\\'ll\", \" will \", text)\n",
    "    text = re.sub(r\",\", \" \", text)\n",
    "    text = re.sub(r\"\\.\", \" \", text)\n",
    "    text = re.sub(r\"!\", \" ! \", text)\n",
    "    text = re.sub(r\"\\/\", \" \", text)\n",
    "    text = re.sub(r\"\\^\", \" ^ \", text)\n",
    "    text = re.sub(r\"\\+\", \" + \", text)\n",
    "    text = re.sub(r\"\\-\", \" - \", text)\n",
    "    text = re.sub(r\"\\=\", \" = \", text)\n",
    "    text = re.sub(r\"'\", \" \", text)\n",
    "    text = re.sub(r\"(\\d+)(k)\", r\"\\g<1>000\", text)\n",
    "    text = re.sub(r\":\", \" : \", text)\n",
    "    text = re.sub(r\" e g \", \" eg \", text)\n",
    "    text = re.sub(r\" b g \", \" bg \", text)\n",
    "    text = re.sub(r\" u s \", \" american \", text)\n",
    "    text = re.sub(r\"\\0s\", \"0\", text)\n",
    "    text = re.sub(r\" 9 11 \", \"911\", text)\n",
    "    text = re.sub(r\"e - mail\", \"email\", text)\n",
    "    text = re.sub(r\"j k\", \"jk\", text)\n",
    "    text = re.sub(r\"\\s{2,}\", \" \", text)\n",
    "    \n",
    "    ## Stemming\n",
    "    text = text.split()\n",
    "    stemmer = SnowballStemmer('english')\n",
    "    stemmed_words = [stemmer.stem(word) for word in text]\n",
    "    text = \" \".join(stemmed_words)\n",
    "    \n",
    "    return text"
   ]
  },
  {
   "cell_type": "markdown",
   "metadata": {},
   "source": [
    "#### Now lets see how they look:"
   ]
  },
  {
   "cell_type": "code",
   "execution_count": 38,
   "metadata": {
    "scrolled": true
   },
   "outputs": [
    {
     "data": {
      "text/plain": [
       "'admiss date discharg date date birth sex servic histori present ill patient year old male histori hepat virus hepatocellular cancer status post chemoembo present hospit hematemesi sinc one episod hematemesi two episod well hematemesi hematochezia hospit patient note hematocrit transfus two unit pack red blood cell note coagulopathi inr given ffp well vitamin patient deni past histori varic upper bleed deni recent alcohol drug use feel nauseat began vomit continu hematemesi three day transfer hospit definit care patient transfus total five unit pack red blood cell given vitamin counteract coagulopathi underw egd band sclerotherapi grade lower esophag varic lower mid esophagus patient also abdomin followup chemoembo show portal vein thrombosi present patient deni short breath chest pain headach nausea vomit fever chill state feel much better past medic histori signific hepat virus alcohol cirrhosi diagnos duoden ulcer status post perfor repair diagnos hepatocellular carcinoma radiotherapi well chemoembol therapi allergi known drug allergi medic aldacton lasix percocet dilaudid zantac oxycontin social histori smoker former drinker deni drug use physic examin upon admiss patient blood pressur heart rate temperatur sate room air general slight drowsi jaundic mild distress heent normocephal atraumat slight icter pupil equal round reactiv light bilater jvd cardiac exam regular rate rhythm systol eject murmur left base lung clear auscult minim rale left base abdomen distend mild tender right lower quadrant guard rebound well well heal midlin scar extrem reveal trace pedal edema bilater club cyanosi skin exam reveal diffus spider angioma caput medusa neuro awak alert orient time three cranial nerv intact grossli focal deficit minim asterixi left hand upon present howev resolv upon admiss hospit laboratori data patient lab hospit reveal hematocrit white count platelet chem unremark lfts reveal ast alt alka phos bili direct bili indirect bili hospit cours patient transfer hospit admit intens care unit egd therapi upper bleed patient underw esophagogastroduodenostomi per servic note grade esophag varic lower third esophagus underw sclerotherapi well band patient start octreotid continu five day cours status post egd patient transfus total five unit pack red blood cell given vitamin correct ffp patient hematocrit remain stabl throughout hospit band octreotid therapi patient new episod hematemesi hematochezia hospit patient becam guaiac negat two day pass darken clot stool abdomin distens patient underw unguid paracentesi withdraw approxim transud fluid cell cultur negat patient subsequ order ultrasound guid paracentesi reveal trace fluid tappabl fluid signific howev thicken bowel wall secondari edemat chang fluid overload patient diures aldacton lasix remov excess fluid abdomin wall well intestin wall low grade fever patient blood cultur drawn time six negat bacteremia patient also chest ray negat infiltr sourc found patient low grade fever possibl patient low grade fever secondari hepatocellular carcinoma status post chemoembol patient remain nontox appear throughout hospit focus nidus infect found explain patient intermitt low grade fever mild hypocalcemia hyponatremia patient note hyponatrem nadir felt hypervolem hyponatremia secondari low urin sodium obvious increas total bodi water patient diures improv diuresi sodium correct without intervent also note patient mild hypocalcem correct calcium patient receiv calcium supplement hypocalcemia like secondari diuresi well hepat failur secondari hep cirrhosi well hepatocellular carcinoma hepatocellular carcinoma status post chemoembol patient seen first name namepattern last name namepattern hous question possibl chemoembol first name stitl state patient longer candid chemoembol howev possibl candid oral chemotherapi patient follow first name namepattern last name namepattern one two week status post discharg discharg status patient stabl discharg discharg destin home patient taken home first name namepattern last name namepattern back home locat discharg diagnos upper bleed secondari varic status post sclerotherapi well band ligat blood loss anemia hepatocellular carcinoma hepat virus right upper extrem superfici thrombophleb hyponatremia hypocalcemia ascit pleural vein thrombosi alcohol cirrhosi discharg medic furosemid nadolol zantac oxycodon simethicon spironolacton ciprofloxacin lactulos followup patient follow first name namepattern last name namepattern one two week status post discharg patient also follow pcp hospit patient also follow servic last name stitl one week next thursday repeat egd band name last name namepattern number dictat last name namepattern medquist job job number'"
      ]
     },
     "execution_count": 38,
     "metadata": {},
     "output_type": "execute_result"
    }
   ],
   "source": [
    "clean_text(df_train['TEXT'][0])"
   ]
  },
  {
   "cell_type": "markdown",
   "metadata": {},
   "source": [
    "#### Looks clean and ready for BoW!"
   ]
  },
  {
   "cell_type": "code",
   "execution_count": 39,
   "metadata": {},
   "outputs": [],
   "source": [
    "df_train['TEXT'] = df_train['TEXT'].map(lambda x: clean_text(x))\n",
    "df_valid['TEXT'] = df_valid['TEXT'].map(lambda x: clean_text(x))"
   ]
  },
  {
   "cell_type": "code",
   "execution_count": 40,
   "metadata": {},
   "outputs": [],
   "source": [
    "df_train.to_pickle('train_prepared.pkl')\n",
    "df_valid.to_pickle('valid_prepared_balanced.pkl')"
   ]
  },
  {
   "cell_type": "code",
   "execution_count": 42,
   "metadata": {},
   "outputs": [
    {
     "data": {
      "text/plain": [
       "1176"
      ]
     },
     "execution_count": 42,
     "metadata": {},
     "output_type": "execute_result"
    }
   ],
   "source": [
    "len(df_valid)"
   ]
  }
 ],
 "metadata": {
  "kernelspec": {
   "display_name": "Python 3",
   "language": "python",
   "name": "python3"
  },
  "language_info": {
   "codemirror_mode": {
    "name": "ipython",
    "version": 3
   },
   "file_extension": ".py",
   "mimetype": "text/x-python",
   "name": "python",
   "nbconvert_exporter": "python",
   "pygments_lexer": "ipython3",
   "version": "3.7.5"
  }
 },
 "nbformat": 4,
 "nbformat_minor": 2
}
