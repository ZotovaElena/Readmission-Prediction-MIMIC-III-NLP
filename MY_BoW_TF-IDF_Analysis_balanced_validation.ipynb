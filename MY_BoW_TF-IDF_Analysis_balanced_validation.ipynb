{
 "cells": [
  {
   "cell_type": "markdown",
   "metadata": {},
   "source": [
    "#### Bag of Words Approaches:\n",
    "- In this notebook I use bag of words (BoW) type of text vectorization. \n",
    "- Validation set is balanced in the same propotrion as the train set. \n",
    "- Evaluation metrics are: AUC and F1 score. "
   ]
  },
  {
   "cell_type": "code",
   "execution_count": 2,
   "metadata": {},
   "outputs": [
    {
     "name": "stderr",
     "output_type": "stream",
     "text": [
      "/home/elena/anaconda3/envs/default/lib/python3.7/site-packages/tensorflow/python/framework/dtypes.py:526: FutureWarning: Passing (type, 1) or '1type' as a synonym of type is deprecated; in a future version of numpy, it will be understood as (type, (1,)) / '(1,)type'.\n",
      "  _np_qint8 = np.dtype([(\"qint8\", np.int8, 1)])\n",
      "/home/elena/anaconda3/envs/default/lib/python3.7/site-packages/tensorflow/python/framework/dtypes.py:527: FutureWarning: Passing (type, 1) or '1type' as a synonym of type is deprecated; in a future version of numpy, it will be understood as (type, (1,)) / '(1,)type'.\n",
      "  _np_quint8 = np.dtype([(\"quint8\", np.uint8, 1)])\n",
      "/home/elena/anaconda3/envs/default/lib/python3.7/site-packages/tensorflow/python/framework/dtypes.py:528: FutureWarning: Passing (type, 1) or '1type' as a synonym of type is deprecated; in a future version of numpy, it will be understood as (type, (1,)) / '(1,)type'.\n",
      "  _np_qint16 = np.dtype([(\"qint16\", np.int16, 1)])\n",
      "/home/elena/anaconda3/envs/default/lib/python3.7/site-packages/tensorflow/python/framework/dtypes.py:529: FutureWarning: Passing (type, 1) or '1type' as a synonym of type is deprecated; in a future version of numpy, it will be understood as (type, (1,)) / '(1,)type'.\n",
      "  _np_quint16 = np.dtype([(\"quint16\", np.uint16, 1)])\n",
      "/home/elena/anaconda3/envs/default/lib/python3.7/site-packages/tensorflow/python/framework/dtypes.py:530: FutureWarning: Passing (type, 1) or '1type' as a synonym of type is deprecated; in a future version of numpy, it will be understood as (type, (1,)) / '(1,)type'.\n",
      "  _np_qint32 = np.dtype([(\"qint32\", np.int32, 1)])\n",
      "/home/elena/anaconda3/envs/default/lib/python3.7/site-packages/tensorflow/python/framework/dtypes.py:535: FutureWarning: Passing (type, 1) or '1type' as a synonym of type is deprecated; in a future version of numpy, it will be understood as (type, (1,)) / '(1,)type'.\n",
      "  np_resource = np.dtype([(\"resource\", np.ubyte, 1)])\n",
      "[nltk_data] Downloading package punkt to /home/elena/nltk_data...\n",
      "[nltk_data]   Package punkt is already up-to-date!\n",
      "[nltk_data] Downloading package wordnet to /home/elena/nltk_data...\n",
      "[nltk_data]   Package wordnet is already up-to-date!\n",
      "[nltk_data] Downloading package stopwords to /home/elena/nltk_data...\n",
      "[nltk_data]   Package stopwords is already up-to-date!\n",
      "Using TensorFlow backend.\n"
     ]
    }
   ],
   "source": [
    "import pandas as pd\n",
    "import numpy as np\n",
    "import matplotlib.pyplot as plt\n",
    "%matplotlib inline\n",
    "import tensorflow as tf\n",
    "import pickle\n",
    "import warnings\n",
    "warnings.filterwarnings('ignore')\n",
    "\n",
    "import nltk\n",
    "nltk.download('punkt')\n",
    "nltk.download('wordnet')\n",
    "nltk.download('stopwords')\n",
    "from nltk import word_tokenize\n",
    "from nltk.stem import PorterStemmer\n",
    "from nltk.stem import WordNetLemmatizer\n",
    "from nltk.util import ngrams\n",
    "from nltk.corpus import stopwords\n",
    "from nltk.stem import SnowballStemmer\n",
    "\n",
    "\n",
    "# sklearn\n",
    "from sklearn.feature_selection import SelectKBest\n",
    "from sklearn.model_selection import GridSearchCV\n",
    "from sklearn.feature_extraction.text import CountVectorizer\n",
    "from sklearn.feature_extraction.text import TfidfVectorizer\n",
    "from sklearn.linear_model import LogisticRegression\n",
    "from sklearn.metrics import confusion_matrix\n",
    "from sklearn import metrics\n",
    "from sklearn.naive_bayes import GaussianNB\n",
    "from sklearn.metrics import f1_score\n",
    "from sklearn.pipeline import Pipeline\n",
    "from sklearn.svm import l1_min_c\n",
    "\n",
    "from numpy import array\n",
    "from scipy.sparse import csr_matrix\n",
    "from time import time\n",
    "import re\n",
    "import string\n",
    "\n",
    "\n",
    "# keras\n",
    "from keras.models import Sequential\n",
    "from keras.layers import Dense\n",
    "from keras.layers import Dropout\n",
    "from keras.optimizers import Adam\n",
    "from keras.models import Sequential, load_model\n",
    "from keras.layers import Dense\n",
    "from keras.layers import LSTM\n",
    "from keras.layers.embeddings import Embedding\n",
    "from keras.preprocessing import sequence\n",
    "from keras.callbacks import TensorBoard\n",
    "from keras.utils import np_utils\n",
    "from keras.utils import to_categorical"
   ]
  },
  {
   "cell_type": "code",
   "execution_count": 3,
   "metadata": {},
   "outputs": [
    {
     "name": "stdout",
     "output_type": "stream",
     "text": [
      "4832\n",
      "1176\n"
     ]
    }
   ],
   "source": [
    "df_train = pd.read_pickle('train_prepared.pkl')\n",
    "df_valid = pd.read_pickle('valid_prepared_balanced.pkl')\n",
    "print(len(df_train))\n",
    "print(len(df_valid))"
   ]
  },
  {
   "cell_type": "code",
   "execution_count": null,
   "metadata": {},
   "outputs": [],
   "source": []
  },
  {
   "cell_type": "markdown",
   "metadata": {},
   "source": [
    "####  CountVectorizer from scikit-learn package simply counts how many times each word occurs in the note. There is also a TfidfVectorizer which takes into account how often words are used across all notes, that I use later."
   ]
  },
  {
   "cell_type": "code",
   "execution_count": 4,
   "metadata": {},
   "outputs": [],
   "source": [
    "vocabulary_size = 20000"
   ]
  },
  {
   "cell_type": "code",
   "execution_count": 5,
   "metadata": {},
   "outputs": [],
   "source": [
    "vect = CountVectorizer(max_features = 50000)\n",
    "vect.fit(df_train.TEXT.values)\n",
    "X_train_tf = vect.transform(df_train.TEXT.values)"
   ]
  },
  {
   "cell_type": "markdown",
   "metadata": {},
   "source": [
    "#### Finding most frequent words to use them as Stop-Words:¶"
   ]
  },
  {
   "cell_type": "code",
   "execution_count": 6,
   "metadata": {},
   "outputs": [
    {
     "data": {
      "image/png": "[encoded data removed]",
      "text/plain": [
       "<Figure size 432x576 with 1 Axes>"
      ]
     },
     "metadata": {
      "needs_background": "light"
     },
     "output_type": "display_data"
    }
   ],
   "source": [
    "sum_words = X_train_tf.sum(axis=0) \n",
    "words_freq = [(word, sum_words[0, idx]) for word, idx in     vect.vocabulary_.items()]\n",
    "words_freq =sorted(words_freq, key = lambda x: x[1], reverse=True)\n",
    "words_freq_plot = words_freq[:30]\n",
    "values = [value[0] for value in words_freq_plot]\n",
    "freq = [value[1] for value in words_freq_plot]\n",
    "fig, axes = plt.subplots(nrows = 1, ncols = 1, figsize = (6,8), sharex=True)\n",
    "plt.barh(range(len(values)),freq, align = 'center')\n",
    "plt.yticks(range(len(values)),values)\n",
    "plt.title(\"Top 30 Frequent Words\")\n",
    "plt.gca().invert_yaxis()\n",
    "plt.xlabel('Frequncy')\n",
    "plt.tight_layout()\n",
    "plt.show()"
   ]
  },
  {
   "cell_type": "markdown",
   "metadata": {},
   "source": [
    "#### We can see the most frequent words. Now we can make our own stop words:"
   ]
  },
  {
   "cell_type": "code",
   "execution_count": 7,
   "metadata": {},
   "outputs": [],
   "source": [
    "my_stop_words = ['the','and','to','of','was','with','a','on','in','for','name',\n",
    "                 'is','patient','s','he','at','as','or','one','she','his','her','am',\n",
    "                 'were','you','pt','pm','by','be','had','your','this','date',\n",
    "                 'from','there','an','that','p','are','have','has','h','but','o',\n",
    "                 'namepattern','which','every','also', 'day']"
   ]
  },
  {
   "cell_type": "markdown",
   "metadata": {},
   "source": [
    "### Making BoW using the TEXT column:"
   ]
  },
  {
   "cell_type": "code",
   "execution_count": 8,
   "metadata": {},
   "outputs": [
    {
     "data": {
      "text/plain": [
       "CountVectorizer(analyzer='word', binary=False, decode_error='strict',\n",
       "                dtype=<class 'numpy.int64'>, encoding='utf-8', input='content',\n",
       "                lowercase=True, max_df=1.0, max_features=50000, min_df=1,\n",
       "                ngram_range=(1, 1), preprocessor=None,\n",
       "                stop_words=['the', 'and', 'to', 'of', 'was', 'with', 'a', 'on',\n",
       "                            'in', 'for', 'name', 'is', 'patient', 's', 'he',\n",
       "                            'at', 'as', 'or', 'one', 'she', 'his', 'her', 'am',\n",
       "                            'were', 'you', 'pt', 'pm', 'by', 'be', 'had', ...],\n",
       "                strip_accents=None, token_pattern='(?u)\\\\b\\\\w\\\\w+\\\\b',\n",
       "                tokenizer=None, vocabulary=None)"
      ]
     },
     "execution_count": 8,
     "metadata": {},
     "output_type": "execute_result"
    }
   ],
   "source": [
    "vect = CountVectorizer(max_features = 50000,  \n",
    "                       stop_words = my_stop_words)\n",
    "vect.fit(df_train.TEXT.values)"
   ]
  },
  {
   "cell_type": "code",
   "execution_count": 9,
   "metadata": {},
   "outputs": [
    {
     "name": "stdout",
     "output_type": "stream",
     "text": [
      "[1 1 0 0 0 0 1 0 0 0]\n",
      "(4832,)\n",
      "(4832, 31059)\n",
      "(1176, 31059)\n",
      "valid shape  (1176,)\n"
     ]
    }
   ],
   "source": [
    "from sklearn import preprocessing\n",
    "from sklearn import svm\n",
    "\n",
    "X_train_tf = vect.transform(df_train.TEXT.values)\n",
    "X_valid_tf = vect.transform(df_valid.TEXT.values)\n",
    "\n",
    "# Response:\n",
    "\n",
    "y_train_labels = df_train.OUTPUT_LABEL\n",
    "y_valid_labels = df_valid.OUTPUT_LABEL\n",
    "\n",
    "\n",
    "le = preprocessing.LabelEncoder()\n",
    "le.fit(y_train_labels)\n",
    "y_train=np.array(le.transform(y_train_labels))\n",
    "\n",
    "\n",
    "le.fit(y_valid_labels)\n",
    "y_valid=np.array(le.transform(y_valid_labels))\n",
    "\n",
    "print(y_train[:10])\n",
    "print(y_train.shape)\n",
    "print(X_train_tf.shape)\n",
    "print(X_valid_tf.shape)\n",
    "print('valid shape ', y_valid.shape)"
   ]
  },
  {
   "cell_type": "code",
   "execution_count": 11,
   "metadata": {},
   "outputs": [],
   "source": [
    "Model = []\n",
    "AUC = []\n",
    "F1 = []"
   ]
  },
  {
   "cell_type": "markdown",
   "metadata": {},
   "source": [
    "### Logistic Regression for BoW:"
   ]
  },
  {
   "cell_type": "code",
   "execution_count": 12,
   "metadata": {},
   "outputs": [
    {
     "data": {
      "text/plain": [
       "LogisticRegression(C=0.0001, class_weight=None, dual=False, fit_intercept=True,\n",
       "                   intercept_scaling=1, l1_ratio=None, max_iter=100,\n",
       "                   multi_class='auto', n_jobs=None, penalty='l2',\n",
       "                   random_state=42, solver='lbfgs', tol=0.0001, verbose=0,\n",
       "                   warm_start=False)"
      ]
     },
     "execution_count": 12,
     "metadata": {},
     "output_type": "execute_result"
    }
   ],
   "source": [
    "clf=LogisticRegression(C = 0.0001, penalty = 'l2', random_state = 42)\n",
    "clf.fit(X_train_tf, y_train)"
   ]
  },
  {
   "cell_type": "code",
   "execution_count": 13,
   "metadata": {},
   "outputs": [
    {
     "name": "stdout",
     "output_type": "stream",
     "text": [
      "0.710814938220186\n",
      "0.6655484230443313\n"
     ]
    }
   ],
   "source": [
    "y_valid_preds = clf.predict_proba(X_valid_tf)[:, 1]\n",
    "fpr, tpr, _ = metrics.roc_curve(np.array(y_valid), y_valid_preds)\n",
    "auc = metrics.auc(fpr,tpr)\n",
    "print(auc)\n",
    "y_valid_preds = clf.predict(X_valid_tf)\n",
    "\n",
    "f_score_macro = metrics.f1_score(y_valid, y_valid_preds, average='macro')\n",
    "print(f_score_macro)"
   ]
  },
  {
   "cell_type": "code",
   "execution_count": 14,
   "metadata": {},
   "outputs": [],
   "source": [
    "Model.append(\"LR on BoW\")\n",
    "AUC.append(auc)\n",
    "F1.append(f_score_macro)"
   ]
  },
  {
   "cell_type": "markdown",
   "metadata": {},
   "source": [
    "### SVM on BOW "
   ]
  },
  {
   "cell_type": "markdown",
   "metadata": {},
   "source": [
    "#### Previously, I did grid-search over SVM parameters and obtaines gamma=0.001 and C=1"
   ]
  },
  {
   "cell_type": "code",
   "execution_count": 15,
   "metadata": {},
   "outputs": [
    {
     "data": {
      "text/plain": [
       "Pipeline(memory=None,\n",
       "         steps=[('filter',\n",
       "                 SelectKBest(k=20000,\n",
       "                             score_func=<function mutual_info_classif at 0x7f6343dbecb0>)),\n",
       "                ('classification',\n",
       "                 SVC(C=1, break_ties=False, cache_size=200, class_weight=None,\n",
       "                     coef0=0.0, decision_function_shape='ovr', degree=3,\n",
       "                     gamma=0.001, kernel='rbf', max_iter=-1, probability=True,\n",
       "                     random_state=None, shrinking=True, tol=0.001,\n",
       "                     verbose=False))],\n",
       "         verbose=False)"
      ]
     },
     "execution_count": 15,
     "metadata": {},
     "output_type": "execute_result"
    }
   ],
   "source": [
    "from sklearn.feature_selection import mutual_info_classif\n",
    "num_features = 20000\n",
    "clf_train = Pipeline(\n",
    "    [  (\"filter\", SelectKBest(mutual_info_classif, k=num_features)),\n",
    "       (\"classification\", svm.SVC(kernel=\"rbf\", gamma=0.001, C=1, probability=True)),\n",
    "    ]\n",
    ")\n",
    "\n",
    "clf_train.fit(X_train_tf, y_train)"
   ]
  },
  {
   "cell_type": "code",
   "execution_count": 16,
   "metadata": {},
   "outputs": [
    {
     "name": "stdout",
     "output_type": "stream",
     "text": [
      "0.7148670692766902\n",
      "0.6594806011151594\n"
     ]
    }
   ],
   "source": [
    "y_valid_preds = clf_train.predict_proba(X_valid_tf)[:, 1]\n",
    "fpr, tpr, _ = metrics.roc_curve(np.array(y_valid), y_valid_preds)\n",
    "auc = metrics.auc(fpr,tpr)\n",
    "print(auc)\n",
    "y_valid_preds = clf_train.predict(X_valid_tf)\n",
    "f_score_macro = metrics.f1_score(y_valid, y_valid_preds, average='macro')\n",
    "print(f_score_macro)"
   ]
  },
  {
   "cell_type": "code",
   "execution_count": 17,
   "metadata": {},
   "outputs": [],
   "source": [
    "Model.append(\"SVM on BoW\")\n",
    "AUC.append(auc)\n",
    "F1.append(f_score_macro)"
   ]
  },
  {
   "cell_type": "markdown",
   "metadata": {},
   "source": [
    "### Linear SVM on BoW"
   ]
  },
  {
   "cell_type": "code",
   "execution_count": 18,
   "metadata": {},
   "outputs": [
    {
     "data": {
      "text/plain": [
       "LinearSVC(C=10, class_weight=None, dual=True, fit_intercept=True,\n",
       "          intercept_scaling=1, loss='squared_hinge', max_iter=1000,\n",
       "          multi_class='ovr', penalty='l2', random_state=0, tol=1e-05,\n",
       "          verbose=0)"
      ]
     },
     "execution_count": 18,
     "metadata": {},
     "output_type": "execute_result"
    }
   ],
   "source": [
    "from sklearn.svm import LinearSVC\n",
    "clf = LinearSVC(random_state=0, tol=1e-5, C=10)\n",
    "clf.fit(X_train_tf, y_train)"
   ]
  },
  {
   "cell_type": "code",
   "execution_count": 19,
   "metadata": {},
   "outputs": [
    {
     "name": "stdout",
     "output_type": "stream",
     "text": [
      "0.5833333333333333\n",
      "0.5832742735648477\n"
     ]
    }
   ],
   "source": [
    "y_valid_preds = clf.predict(X_valid_tf)\n",
    "fpr, tpr, _ = metrics.roc_curve(np.array(y_valid), y_valid_preds)\n",
    "auc = metrics.auc(fpr,tpr)\n",
    "print(auc)\n",
    "y_valid_preds = clf.predict(X_valid_tf)\n",
    "\n",
    "f_score_macro = metrics.f1_score(y_valid, y_valid_preds, average='macro')\n",
    "print(f_score_macro)"
   ]
  },
  {
   "cell_type": "code",
   "execution_count": 20,
   "metadata": {},
   "outputs": [],
   "source": [
    "Model.append(\"Linear SVM on BoW\")\n",
    "AUC.append(auc)\n",
    "F1.append(f_score_macro)"
   ]
  },
  {
   "cell_type": "markdown",
   "metadata": {},
   "source": [
    "### Stochastic Gradient Descent¶"
   ]
  },
  {
   "cell_type": "code",
   "execution_count": 21,
   "metadata": {},
   "outputs": [
    {
     "data": {
      "text/plain": [
       "SGDClassifier(alpha=0.0001, average=False, class_weight=None,\n",
       "              early_stopping=False, epsilon=0.1, eta0=0.0, fit_intercept=True,\n",
       "              l1_ratio=0.15, learning_rate='optimal', loss='hinge', max_iter=5,\n",
       "              n_iter_no_change=5, n_jobs=None, penalty='l2', power_t=0.5,\n",
       "              random_state=None, shuffle=True, tol=0.001,\n",
       "              validation_fraction=0.1, verbose=0, warm_start=False)"
      ]
     },
     "execution_count": 21,
     "metadata": {},
     "output_type": "execute_result"
    }
   ],
   "source": [
    "from sklearn.linear_model import SGDClassifier\n",
    "clf = SGDClassifier(loss=\"hinge\", penalty=\"l2\", max_iter=5)\n",
    "clf.fit(X_train_tf, y_train)"
   ]
  },
  {
   "cell_type": "code",
   "execution_count": 22,
   "metadata": {},
   "outputs": [
    {
     "name": "stdout",
     "output_type": "stream",
     "text": [
      "0.6156462585034014\n",
      "0.6148932963937542\n"
     ]
    }
   ],
   "source": [
    "y_valid_preds = clf.predict(X_valid_tf)\n",
    "fpr, tpr, _ = metrics.roc_curve(np.array(y_valid), y_valid_preds)\n",
    "auc = metrics.auc(fpr,tpr)\n",
    "print(auc)\n",
    "\n",
    "y_valid_preds = clf.predict(X_valid_tf)\n",
    "\n",
    "f_score_macro = metrics.f1_score(y_valid, y_valid_preds, average='macro')\n",
    "print(f_score_macro)"
   ]
  },
  {
   "cell_type": "code",
   "execution_count": 23,
   "metadata": {},
   "outputs": [],
   "source": [
    "Model.append(\"SGD on BoW\")\n",
    "AUC.append(auc)\n",
    "F1.append(f_score_macro)"
   ]
  },
  {
   "cell_type": "markdown",
   "metadata": {},
   "source": [
    "### Naive Bayes (NB) on BoW:"
   ]
  },
  {
   "cell_type": "code",
   "execution_count": 24,
   "metadata": {},
   "outputs": [],
   "source": [
    "X_train_Array = X_train_tf.todense()\n",
    "X_valid_Array = X_valid_tf.todense()"
   ]
  },
  {
   "cell_type": "code",
   "execution_count": 25,
   "metadata": {},
   "outputs": [
    {
     "name": "stdout",
     "output_type": "stream",
     "text": [
      "0.5258254662409182\n",
      "0.5186873771337993\n"
     ]
    }
   ],
   "source": [
    "gnb = GaussianNB()\n",
    "clf = gnb.fit(X_train_Array, y_train)\n",
    "\n",
    "y_valid_preds = clf.predict_proba(X_valid_Array) \n",
    "fpr, tpr, _ = metrics.roc_curve(np.array(y_valid), y_valid_preds[:,1])\n",
    "auc = metrics.auc(fpr,tpr)\n",
    "\n",
    "print(auc)\n",
    "\n",
    "y_valid_preds = clf.predict(X_valid_tf.todense())\n",
    "\n",
    "f_score_macro = metrics.f1_score(y_valid, y_valid_preds, average='macro')\n",
    "print(f_score_macro)"
   ]
  },
  {
   "cell_type": "code",
   "execution_count": 26,
   "metadata": {},
   "outputs": [],
   "source": [
    "Model.append(\"NB on BoW\")\n",
    "AUC.append(auc)\n",
    "F1.append(f_score_macro)"
   ]
  },
  {
   "cell_type": "markdown",
   "metadata": {},
   "source": [
    "## TF-IDF Vectorizing"
   ]
  },
  {
   "cell_type": "code",
   "execution_count": 27,
   "metadata": {},
   "outputs": [
    {
     "data": {
      "text/plain": [
       "TfidfVectorizer(analyzer='word', binary=False, decode_error='strict',\n",
       "                dtype=<class 'numpy.float64'>, encoding='utf-8',\n",
       "                input='content', lowercase=True, max_df=1.0, max_features=None,\n",
       "                min_df=1, ngram_range=(1, 1), norm='l2', preprocessor=None,\n",
       "                smooth_idf=True,\n",
       "                stop_words=['the', 'and', 'to', 'of', 'was', 'with', 'a', 'on',\n",
       "                            'in', 'for', 'name', 'is', 'patient', 's', 'he',\n",
       "                            'at', 'as', 'or', 'one', 'she', 'his', 'her', 'am',\n",
       "                            'were', 'you', 'pt', 'pm', 'by', 'be', 'had', ...],\n",
       "                strip_accents=None, sublinear_tf=False,\n",
       "                token_pattern='(?u)\\\\b\\\\w\\\\w+\\\\b', tokenizer=None, use_idf=True,\n",
       "                vocabulary=None)"
      ]
     },
     "execution_count": 27,
     "metadata": {},
     "output_type": "execute_result"
    }
   ],
   "source": [
    "vect_TF_IDF = TfidfVectorizer(stop_words = my_stop_words)\n",
    "vect_TF_IDF.fit(df_train.TEXT.values)"
   ]
  },
  {
   "cell_type": "code",
   "execution_count": 28,
   "metadata": {},
   "outputs": [],
   "source": [
    "X_train_tf_IDF = vect_TF_IDF.transform(df_train.TEXT.values)\n",
    "X_valid_tf_IDF = vect_TF_IDF.transform(df_valid.TEXT.values)"
   ]
  },
  {
   "cell_type": "markdown",
   "metadata": {},
   "source": [
    "### Logistic Regression with TF_IDF for BoW :"
   ]
  },
  {
   "cell_type": "code",
   "execution_count": 29,
   "metadata": {},
   "outputs": [
    {
     "data": {
      "text/plain": [
       "LogisticRegression(C=0.0001, class_weight=None, dual=False, fit_intercept=True,\n",
       "                   intercept_scaling=1, l1_ratio=None, max_iter=100,\n",
       "                   multi_class='auto', n_jobs=None, penalty='l2',\n",
       "                   random_state=42, solver='lbfgs', tol=0.0001, verbose=0,\n",
       "                   warm_start=False)"
      ]
     },
     "execution_count": 29,
     "metadata": {},
     "output_type": "execute_result"
    }
   ],
   "source": [
    "clf=LogisticRegression(C = 0.0001, penalty = 'l2', random_state = 42)\n",
    "clf.fit(X_train_tf_IDF, y_train)"
   ]
  },
  {
   "cell_type": "code",
   "execution_count": 30,
   "metadata": {},
   "outputs": [
    {
     "name": "stdout",
     "output_type": "stream",
     "text": [
      "0.6807956175667546\n",
      "0.6309139505015793\n"
     ]
    }
   ],
   "source": [
    "y_valid_preds_TF_IDF = clf.predict_proba(X_valid_tf_IDF)[:, 1]\n",
    "fpr, tpr, _ = metrics.roc_curve(np.array(y_valid), y_valid_preds_TF_IDF)\n",
    "auc = metrics.auc(fpr,tpr)\n",
    "print(auc)\n",
    "\n",
    "y_valid_preds = clf.predict(X_valid_tf_IDF.todense())\n",
    "f_score_macro = metrics.f1_score(y_valid, y_valid_preds, average='macro')\n",
    "print(f_score_macro)"
   ]
  },
  {
   "cell_type": "code",
   "execution_count": 31,
   "metadata": {},
   "outputs": [],
   "source": [
    "Model.append(\"LR on TF-IDF of BoW\")\n",
    "AUC.append(auc)\n",
    "F1.append(f_score_macro)"
   ]
  },
  {
   "cell_type": "markdown",
   "metadata": {},
   "source": [
    "### SVM with TF-IDF"
   ]
  },
  {
   "cell_type": "code",
   "execution_count": 32,
   "metadata": {},
   "outputs": [],
   "source": [
    "from sklearn import svm\n",
    "from sklearn.svm import SVC"
   ]
  },
  {
   "cell_type": "code",
   "execution_count": 33,
   "metadata": {},
   "outputs": [
    {
     "data": {
      "text/plain": [
       "Pipeline(memory=None,\n",
       "         steps=[('filter',\n",
       "                 SelectKBest(k=20000,\n",
       "                             score_func=<function mutual_info_classif at 0x7f6343dbecb0>)),\n",
       "                ('classification',\n",
       "                 SVC(C=10, break_ties=False, cache_size=200, class_weight=None,\n",
       "                     coef0=0.0, decision_function_shape='ovr', degree=3,\n",
       "                     gamma=0.001, kernel='rbf', max_iter=-1, probability=True,\n",
       "                     random_state=None, shrinking=True, tol=0.001,\n",
       "                     verbose=False))],\n",
       "         verbose=False)"
      ]
     },
     "execution_count": 33,
     "metadata": {},
     "output_type": "execute_result"
    }
   ],
   "source": [
    "from sklearn.feature_selection import mutual_info_classif\n",
    "num_features = 20000\n",
    "clf_train = Pipeline(\n",
    "    [  (\"filter\", SelectKBest(mutual_info_classif, k=num_features)),\n",
    "       (\"classification\", svm.SVC(kernel=\"rbf\", gamma=0.001, C=10, probability=True)),\n",
    "    ]\n",
    ")\n",
    "\n",
    "clf_train.fit(X_train_tf_IDF, y_train)"
   ]
  },
  {
   "cell_type": "code",
   "execution_count": 34,
   "metadata": {},
   "outputs": [
    {
     "name": "stdout",
     "output_type": "stream",
     "text": [
      "0.6832685455134435\n",
      "0.6374520559841368\n"
     ]
    }
   ],
   "source": [
    "y_valid_preds_TF_IDF = clf_train.predict_proba(X_valid_tf_IDF)[:, 1]\n",
    "fpr, tpr, _ = metrics.roc_curve(np.array(y_valid), y_valid_preds_TF_IDF)\n",
    "auc = metrics.auc(fpr,tpr)\n",
    "print(auc)\n",
    "\n",
    "y_valid_preds = clf_train.predict(X_valid_tf_IDF.todense())\n",
    "f_score_macro = metrics.f1_score(y_valid, y_valid_preds, average='macro')\n",
    "print(f_score_macro)"
   ]
  },
  {
   "cell_type": "code",
   "execution_count": 35,
   "metadata": {},
   "outputs": [],
   "source": [
    "Model.append(\"SVM on TF-IDF of BoW\")\n",
    "AUC.append(auc)\n",
    "F1.append(f_score_macro)"
   ]
  },
  {
   "cell_type": "code",
   "execution_count": null,
   "metadata": {},
   "outputs": [],
   "source": []
  },
  {
   "cell_type": "markdown",
   "metadata": {},
   "source": [
    "### Neural Networks on BoW :\n",
    "#### Here I am using a simple one layer neural network to see if I can get a better result than LR model."
   ]
  },
  {
   "cell_type": "code",
   "execution_count": 36,
   "metadata": {},
   "outputs": [
    {
     "name": "stdout",
     "output_type": "stream",
     "text": [
      "[[0. 1.]\n",
      " [0. 1.]\n",
      " [1. 0.]]\n"
     ]
    }
   ],
   "source": [
    "y_train_binary = to_categorical(y_train)\n",
    "y_valid_binary = to_categorical(y_valid)\n",
    "print(y_train_binary[:3])\n",
    "X_train_Array = X_train_tf.todense()\n",
    "X_valid_Array = X_valid_tf.todense()"
   ]
  },
  {
   "cell_type": "markdown",
   "metadata": {},
   "source": [
    "#### In the NN model I changed some things. I put binary entropy instead of categorical, because we deal with binary class. I added earlystopping wich saves time of training, the training stops when the validation loss no changes duroing five steps, and checkpointer to save the best model. "
   ]
  },
  {
   "cell_type": "code",
   "execution_count": 37,
   "metadata": {},
   "outputs": [
    {
     "name": "stdout",
     "output_type": "stream",
     "text": [
      "WARNING:tensorflow:From /home/elena/anaconda3/envs/default/lib/python3.7/site-packages/tensorflow/python/framework/op_def_library.py:263: colocate_with (from tensorflow.python.framework.ops) is deprecated and will be removed in a future version.\n",
      "Instructions for updating:\n",
      "Colocations handled automatically by placer.\n",
      "WARNING:tensorflow:From /home/elena/anaconda3/envs/default/lib/python3.7/site-packages/keras/backend/tensorflow_backend.py:3445: calling dropout (from tensorflow.python.ops.nn_ops) with keep_prob is deprecated and will be removed in a future version.\n",
      "Instructions for updating:\n",
      "Please use `rate` instead of `keep_prob`. Rate should be set to `rate = 1 - keep_prob`.\n"
     ]
    }
   ],
   "source": [
    "model = Sequential()\n",
    "model.add(Dense(500, input_dim = X_train_tf.shape[1] , activation = 'relu'))\n",
    "model.add(Dropout(0.5))\n",
    "model.add(Dense(1000, activation = 'relu'))\n",
    "model.add(Dropout(0.5))\n",
    "model.add(Dense(500, activation = 'relu'))\n",
    "model.add(Dense(1, activation = 'sigmoid'))\n",
    "model.compile(optimizer=Adam(0.0001), loss= 'binary_crossentropy', metrics=['accuracy'])"
   ]
  },
  {
   "cell_type": "code",
   "execution_count": 38,
   "metadata": {},
   "outputs": [
    {
     "name": "stdout",
     "output_type": "stream",
     "text": [
      "WARNING:tensorflow:From /home/elena/anaconda3/envs/default/lib/python3.7/site-packages/tensorflow/python/ops/math_ops.py:3066: to_int32 (from tensorflow.python.ops.math_ops) is deprecated and will be removed in a future version.\n",
      "Instructions for updating:\n",
      "Use tf.cast instead.\n",
      "Train on 4832 samples, validate on 1176 samples\n",
      "Epoch 1/500\n",
      "4832/4832 [==============================] - 3s 637us/step - loss: 0.7055 - acc: 0.5203 - val_loss: 0.6707 - val_acc: 0.5833\n",
      "\n",
      "Epoch 00001: val_loss improved from inf to 0.67065, saving model to modelNN.01-0.670652.hdf5\n",
      "Epoch 2/500\n",
      "4832/4832 [==============================] - 2s 461us/step - loss: 0.6785 - acc: 0.5660 - val_loss: 0.6591 - val_acc: 0.6088\n",
      "\n",
      "Epoch 00002: val_loss improved from 0.67065 to 0.65909, saving model to modelNN.02-0.659092.hdf5\n",
      "Epoch 3/500\n",
      "4832/4832 [==============================] - 2s 473us/step - loss: 0.6596 - acc: 0.6134 - val_loss: 0.6494 - val_acc: 0.6420\n",
      "\n",
      "Epoch 00003: val_loss improved from 0.65909 to 0.64943, saving model to modelNN.03-0.649429.hdf5\n",
      "Epoch 4/500\n",
      "4832/4832 [==============================] - 2s 450us/step - loss: 0.6429 - acc: 0.6387 - val_loss: 0.6437 - val_acc: 0.6454\n",
      "\n",
      "Epoch 00004: val_loss improved from 0.64943 to 0.64368, saving model to modelNN.04-0.643684.hdf5\n",
      "Epoch 5/500\n",
      "4832/4832 [==============================] - 2s 445us/step - loss: 0.6280 - acc: 0.6654 - val_loss: 0.6371 - val_acc: 0.6565\n",
      "\n",
      "Epoch 00005: val_loss improved from 0.64368 to 0.63706, saving model to modelNN.05-0.637056.hdf5\n",
      "Epoch 6/500\n",
      "4832/4832 [==============================] - 3s 539us/step - loss: 0.6148 - acc: 0.6647 - val_loss: 0.6365 - val_acc: 0.6573\n",
      "\n",
      "Epoch 00006: val_loss improved from 0.63706 to 0.63646, saving model to modelNN.06-0.636463.hdf5\n",
      "Epoch 7/500\n",
      "4832/4832 [==============================] - 2s 491us/step - loss: 0.6016 - acc: 0.6840 - val_loss: 0.6366 - val_acc: 0.6667\n",
      "\n",
      "Epoch 00007: val_loss did not improve from 0.63646\n",
      "Epoch 8/500\n",
      "4832/4832 [==============================] - 2s 481us/step - loss: 0.5842 - acc: 0.6995 - val_loss: 0.6345 - val_acc: 0.6743\n",
      "\n",
      "Epoch 00008: val_loss improved from 0.63646 to 0.63453, saving model to modelNN.08-0.634528.hdf5\n",
      "Epoch 9/500\n",
      "4832/4832 [==============================] - 2s 451us/step - loss: 0.5589 - acc: 0.7221 - val_loss: 0.6388 - val_acc: 0.6743\n",
      "\n",
      "Epoch 00009: val_loss did not improve from 0.63453\n",
      "Epoch 10/500\n",
      "4832/4832 [==============================] - 2s 466us/step - loss: 0.5419 - acc: 0.7283 - val_loss: 0.6410 - val_acc: 0.6760\n",
      "\n",
      "Epoch 00010: val_loss did not improve from 0.63453\n",
      "Epoch 11/500\n",
      "4832/4832 [==============================] - 2s 466us/step - loss: 0.5160 - acc: 0.7552 - val_loss: 0.6404 - val_acc: 0.6624\n",
      "\n",
      "Epoch 00011: val_loss did not improve from 0.63453\n",
      "Epoch 12/500\n",
      "4832/4832 [==============================] - 2s 468us/step - loss: 0.4876 - acc: 0.7715 - val_loss: 0.6477 - val_acc: 0.6718\n",
      "\n",
      "Epoch 00012: val_loss did not improve from 0.63453\n",
      "Epoch 13/500\n",
      "4832/4832 [==============================] - 3s 538us/step - loss: 0.4692 - acc: 0.7792 - val_loss: 0.6572 - val_acc: 0.6811\n",
      "\n",
      "Epoch 00013: val_loss did not improve from 0.63453\n",
      "Epoch 14/500\n",
      "4832/4832 [==============================] - 3s 540us/step - loss: 0.4275 - acc: 0.8082 - val_loss: 0.6686 - val_acc: 0.6752\n",
      "\n",
      "Epoch 00014: val_loss did not improve from 0.63453\n",
      "Epoch 15/500\n",
      "4832/4832 [==============================] - 3s 659us/step - loss: 0.3964 - acc: 0.8338 - val_loss: 0.6861 - val_acc: 0.6760\n",
      "\n",
      "Epoch 00015: val_loss did not improve from 0.63453\n",
      "Epoch 16/500\n",
      "4832/4832 [==============================] - 2s 507us/step - loss: 0.3637 - acc: 0.8429 - val_loss: 0.7060 - val_acc: 0.6777\n",
      "\n",
      "Epoch 00016: val_loss did not improve from 0.63453\n",
      "Epoch 00016: early stopping\n"
     ]
    },
    {
     "data": {
      "text/plain": [
       "<keras.callbacks.History at 0x7f62e7e6f8d0>"
      ]
     },
     "execution_count": 38,
     "metadata": {},
     "output_type": "execute_result"
    }
   ],
   "source": [
    "from keras.callbacks import ReduceLROnPlateau\n",
    "from keras.callbacks import EarlyStopping\n",
    "from keras.callbacks import ModelCheckpoint\n",
    "import h5py\n",
    "\n",
    "reduce_lr = ReduceLROnPlateau(monitor='val_loss', factor=0.2,\n",
    "                              patience=5, min_lr=0.001)\n",
    "earlystopper = EarlyStopping(patience=8, verbose=1)\n",
    "checkpointer = ModelCheckpoint(filepath = 'modelNN.{epoch:02d}-{val_loss:.6f}.hdf5',\n",
    "                               verbose=1,\n",
    "                               save_best_only=True, save_weights_only = True)\n",
    "history = model.fit(X_train_Array, y_train, \n",
    "                    epochs=500, batch_size=1024, \n",
    "                    callbacks=[earlystopper, checkpointer, reduce_lr], \n",
    "                    validation_data=(X_valid_Array, y_valid))\n",
    "history"
   ]
  },
  {
   "cell_type": "code",
   "execution_count": 39,
   "metadata": {},
   "outputs": [
    {
     "name": "stdout",
     "output_type": "stream",
     "text": [
      "dict_keys(['val_loss', 'val_acc', 'loss', 'acc', 'lr'])\n"
     ]
    }
   ],
   "source": [
    "print(history.history.keys())"
   ]
  },
  {
   "cell_type": "code",
   "execution_count": 40,
   "metadata": {},
   "outputs": [
    {
     "data": {
      "image/png": "[encoded data removed]",
      "text/plain": [
       "<Figure size 432x288 with 1 Axes>"
      ]
     },
     "metadata": {
      "needs_background": "light"
     },
     "output_type": "display_data"
    },
    {
     "data": {
      "image/png": "[encoded data removed]",
      "text/plain": [
       "<Figure size 432x288 with 1 Axes>"
      ]
     },
     "metadata": {
      "needs_background": "light"
     },
     "output_type": "display_data"
    }
   ],
   "source": [
    "plt.plot(history.history['acc'])\n",
    "plt.plot(history.history['val_acc'])\n",
    "plt.title('model accuracy')\n",
    "plt.ylabel('accuracy')\n",
    "plt.xlabel('epoch')\n",
    "plt.legend(['train', 'test'], loc='upper left')\n",
    "plt.show()\n",
    "# summarize history for loss\n",
    "plt.plot(history.history['loss'])\n",
    "plt.plot(history.history['val_loss'])\n",
    "plt.title('model loss')\n",
    "plt.ylabel('loss')\n",
    "plt.xlabel('epoch')\n",
    "plt.legend(['train', 'test'], loc='upper left')\n",
    "plt.show()"
   ]
  },
  {
   "cell_type": "code",
   "execution_count": 41,
   "metadata": {},
   "outputs": [
    {
     "name": "stdout",
     "output_type": "stream",
     "text": [
      "0.7151591929288721\n",
      "(1176, 1)\n",
      "(1176, 1)\n",
      "[[0.1446177 ]\n",
      " [0.85865575]\n",
      " [0.76957595]\n",
      " [0.01929906]\n",
      " [0.9233078 ]\n",
      " [0.70209014]\n",
      " [0.24846306]\n",
      " [0.83641183]\n",
      " [0.98229194]\n",
      " [0.5495217 ]]\n",
      "0.677636941592562\n"
     ]
    }
   ],
   "source": [
    "y_pred = model.predict_proba(X_valid_Array)\n",
    "fpr, tpr, _ = metrics.roc_curve(np.array(y_valid), y_pred)\n",
    "auc = metrics.auc(fpr,tpr)\n",
    "print(auc)\n",
    "\n",
    "y_pred = model.predict(X_valid_Array)\n",
    "print(y_pred.shape)\n",
    "y_pred1 = y_pred\n",
    "print(y_pred1.shape)\n",
    "print(y_pred1[:10])\n",
    "f_score_macro = metrics.f1_score(y_valid, y_pred.round(), average='macro')\n",
    "print(f_score_macro)"
   ]
  },
  {
   "cell_type": "code",
   "execution_count": 42,
   "metadata": {},
   "outputs": [],
   "source": [
    "model.save('NN_model')"
   ]
  },
  {
   "cell_type": "code",
   "execution_count": 43,
   "metadata": {},
   "outputs": [],
   "source": [
    "model = load_model('NN_model')"
   ]
  },
  {
   "cell_type": "code",
   "execution_count": 44,
   "metadata": {},
   "outputs": [],
   "source": [
    "Model.append(\"NN on BoW\")\n",
    "AUC.append(auc)\n",
    "F1.append(f_score_macro)"
   ]
  },
  {
   "cell_type": "code",
   "execution_count": 45,
   "metadata": {},
   "outputs": [
    {
     "name": "stdout",
     "output_type": "stream",
     "text": [
      "['LR on BoW', 'SVM on BoW', 'Linear SVM on BoW', 'SGD on BoW', 'NB on BoW', 'LR on TF-IDF of BoW', 'SVM on TF-IDF of BoW', 'NN on BoW']\n",
      "[0.710814938220186, 0.7148670692766902, 0.5833333333333333, 0.6156462585034014, 0.5258254662409182, 0.6807956175667546, 0.6832685455134435, 0.7151591929288721]\n",
      "[0.6655484230443313, 0.6594806011151594, 0.5832742735648477, 0.6148932963937542, 0.5186873771337993, 0.6309139505015793, 0.6374520559841368, 0.677636941592562]\n"
     ]
    }
   ],
   "source": [
    "print(Model)\n",
    "print(AUC)\n",
    "print(F1)"
   ]
  },
  {
   "cell_type": "markdown",
   "metadata": {},
   "source": [
    "## Tri-grams "
   ]
  },
  {
   "cell_type": "code",
   "execution_count": 46,
   "metadata": {},
   "outputs": [
    {
     "data": {
      "text/plain": [
       "CountVectorizer(analyzer='word', binary=False, decode_error='strict',\n",
       "                dtype=<class 'numpy.int64'>, encoding='utf-8', input='content',\n",
       "                lowercase=True, max_df=1.0, max_features=50000, min_df=1,\n",
       "                ngram_range=(1, 3), preprocessor=None,\n",
       "                stop_words=['the', 'and', 'to', 'of', 'was', 'with', 'a', 'on',\n",
       "                            'in', 'for', 'name', 'is', 'patient', 's', 'he',\n",
       "                            'at', 'as', 'or', 'one', 'she', 'his', 'her', 'am',\n",
       "                            'were', 'you', 'pt', 'pm', 'by', 'be', 'had', ...],\n",
       "                strip_accents=None, token_pattern='(?u)\\\\b\\\\w\\\\w+\\\\b',\n",
       "                tokenizer=None, vocabulary=None)"
      ]
     },
     "execution_count": 46,
     "metadata": {},
     "output_type": "execute_result"
    }
   ],
   "source": [
    "vect = CountVectorizer(max_features = 50000,  \n",
    "                       stop_words = my_stop_words,\n",
    "                       ngram_range= (1,3))\n",
    "vect.fit(df_train.TEXT.values)"
   ]
  },
  {
   "cell_type": "code",
   "execution_count": 47,
   "metadata": {},
   "outputs": [],
   "source": [
    "X_train_tf = vect.transform(df_train.TEXT.values)\n",
    "X_valid_tf = vect.transform(df_valid.TEXT.values)\n"
   ]
  },
  {
   "cell_type": "markdown",
   "metadata": {},
   "source": [
    "### Logistic Regression with ngrams:"
   ]
  },
  {
   "cell_type": "code",
   "execution_count": 48,
   "metadata": {},
   "outputs": [
    {
     "data": {
      "text/plain": [
       "LogisticRegression(C=0.0001, class_weight=None, dual=False, fit_intercept=True,\n",
       "                   intercept_scaling=1, l1_ratio=None, max_iter=100,\n",
       "                   multi_class='auto', n_jobs=None, penalty='l2',\n",
       "                   random_state=42, solver='lbfgs', tol=0.0001, verbose=0,\n",
       "                   warm_start=False)"
      ]
     },
     "execution_count": 48,
     "metadata": {},
     "output_type": "execute_result"
    }
   ],
   "source": [
    "clf=LogisticRegression(C = 0.0001, penalty = 'l2', random_state = 42)\n",
    "clf.fit(X_train_tf, y_train)"
   ]
  },
  {
   "cell_type": "code",
   "execution_count": 49,
   "metadata": {},
   "outputs": [
    {
     "name": "stdout",
     "output_type": "stream",
     "text": [
      "0.7184448609375722\n",
      "0.6699099402285111\n"
     ]
    }
   ],
   "source": [
    "y_valid_preds = clf.predict_proba(X_valid_tf)[:, 1]\n",
    "fpr, tpr, _ = metrics.roc_curve(np.array(y_valid), y_valid_preds)\n",
    "auc = metrics.auc(fpr,tpr)\n",
    "print(auc)\n",
    "y_valid_preds = clf.predict(X_valid_tf)\n",
    "f_score_macro = metrics.f1_score(y_valid, y_valid_preds, average='macro')\n",
    "print(f_score_macro)"
   ]
  },
  {
   "cell_type": "code",
   "execution_count": 50,
   "metadata": {},
   "outputs": [],
   "source": [
    "Model.append(\"LR on BoW up to 3grams\")\n",
    "AUC.append(auc)\n",
    "F1.append(f_score_macro)"
   ]
  },
  {
   "cell_type": "markdown",
   "metadata": {},
   "source": [
    "### Linear SVM with n-grams"
   ]
  },
  {
   "cell_type": "code",
   "execution_count": 51,
   "metadata": {},
   "outputs": [
    {
     "data": {
      "text/plain": [
       "LinearSVC(C=10, class_weight=None, dual=True, fit_intercept=True,\n",
       "          intercept_scaling=1, loss='squared_hinge', max_iter=1000,\n",
       "          multi_class='ovr', penalty='l2', random_state=0, tol=1e-05,\n",
       "          verbose=0)"
      ]
     },
     "execution_count": 51,
     "metadata": {},
     "output_type": "execute_result"
    }
   ],
   "source": [
    "from sklearn.svm import LinearSVC\n",
    "clf = LinearSVC(random_state=0, tol=1e-5, C=10)\n",
    "clf.fit(X_train_tf, y_train)"
   ]
  },
  {
   "cell_type": "code",
   "execution_count": 52,
   "metadata": {},
   "outputs": [
    {
     "name": "stdout",
     "output_type": "stream",
     "text": [
      "0.6832685455134435\n",
      "0.598545404049609\n"
     ]
    }
   ],
   "source": [
    "y_valid_preds = clf._predict_proba_lr(X_valid_tf)[:, 1]\n",
    "fpr, tpr, _ = metrics.roc_curve(np.array(y_valid), y_valid_preds_TF_IDF)\n",
    "auc = metrics.auc(fpr,tpr)\n",
    "print(auc)\n",
    "\n",
    "y_valid_preds = clf.predict(X_valid_tf)\n",
    "f_score_macro = metrics.f1_score(y_valid, y_valid_preds, average='macro')\n",
    "print(f_score_macro)"
   ]
  },
  {
   "cell_type": "code",
   "execution_count": 53,
   "metadata": {},
   "outputs": [],
   "source": [
    "Model.append(\"Linear SVM on 3grams\")\n",
    "AUC.append(auc)\n",
    "F1.append(f_score_macro)"
   ]
  },
  {
   "cell_type": "code",
   "execution_count": 54,
   "metadata": {},
   "outputs": [],
   "source": [
    "Results = pd.DataFrame({'Model': Model, 'AUC': AUC, 'F1 macro': F1})"
   ]
  },
  {
   "cell_type": "markdown",
   "metadata": {},
   "source": [
    "### Comparing results of different models:"
   ]
  },
  {
   "cell_type": "code",
   "execution_count": 55,
   "metadata": {},
   "outputs": [
    {
     "data": {
      "text/html": [
       "<div>\n",
       "<style scoped>\n",
       "    .dataframe tbody tr th:only-of-type {\n",
       "        vertical-align: middle;\n",
       "    }\n",
       "\n",
       "    .dataframe tbody tr th {\n",
       "        vertical-align: top;\n",
       "    }\n",
       "\n",
       "    .dataframe thead th {\n",
       "        text-align: right;\n",
       "    }\n",
       "</style>\n",
       "<table border=\"1\" class=\"dataframe\">\n",
       "  <thead>\n",
       "    <tr style=\"text-align: right;\">\n",
       "      <th></th>\n",
       "      <th>Model</th>\n",
       "      <th>AUC</th>\n",
       "      <th>F1 macro</th>\n",
       "    </tr>\n",
       "  </thead>\n",
       "  <tbody>\n",
       "    <tr>\n",
       "      <th>0</th>\n",
       "      <td>LR on BoW</td>\n",
       "      <td>0.710815</td>\n",
       "      <td>0.665548</td>\n",
       "    </tr>\n",
       "    <tr>\n",
       "      <th>1</th>\n",
       "      <td>SVM on BoW</td>\n",
       "      <td>0.714867</td>\n",
       "      <td>0.659481</td>\n",
       "    </tr>\n",
       "    <tr>\n",
       "      <th>2</th>\n",
       "      <td>Linear SVM on BoW</td>\n",
       "      <td>0.583333</td>\n",
       "      <td>0.583274</td>\n",
       "    </tr>\n",
       "    <tr>\n",
       "      <th>3</th>\n",
       "      <td>SGD on BoW</td>\n",
       "      <td>0.615646</td>\n",
       "      <td>0.614893</td>\n",
       "    </tr>\n",
       "    <tr>\n",
       "      <th>4</th>\n",
       "      <td>NB on BoW</td>\n",
       "      <td>0.525825</td>\n",
       "      <td>0.518687</td>\n",
       "    </tr>\n",
       "    <tr>\n",
       "      <th>5</th>\n",
       "      <td>LR on TF-IDF of BoW</td>\n",
       "      <td>0.680796</td>\n",
       "      <td>0.630914</td>\n",
       "    </tr>\n",
       "    <tr>\n",
       "      <th>6</th>\n",
       "      <td>SVM on TF-IDF of BoW</td>\n",
       "      <td>0.683269</td>\n",
       "      <td>0.637452</td>\n",
       "    </tr>\n",
       "    <tr>\n",
       "      <th>7</th>\n",
       "      <td>NN on BoW</td>\n",
       "      <td>0.715159</td>\n",
       "      <td>0.677637</td>\n",
       "    </tr>\n",
       "    <tr>\n",
       "      <th>8</th>\n",
       "      <td>LR on BoW up to 3grams</td>\n",
       "      <td>0.718445</td>\n",
       "      <td>0.669910</td>\n",
       "    </tr>\n",
       "    <tr>\n",
       "      <th>9</th>\n",
       "      <td>Linear SVM on 3grams</td>\n",
       "      <td>0.683269</td>\n",
       "      <td>0.598545</td>\n",
       "    </tr>\n",
       "  </tbody>\n",
       "</table>\n",
       "</div>"
      ],
      "text/plain": [
       "                    Model       AUC  F1 macro\n",
       "0               LR on BoW  0.710815  0.665548\n",
       "1              SVM on BoW  0.714867  0.659481\n",
       "2       Linear SVM on BoW  0.583333  0.583274\n",
       "3              SGD on BoW  0.615646  0.614893\n",
       "4               NB on BoW  0.525825  0.518687\n",
       "5     LR on TF-IDF of BoW  0.680796  0.630914\n",
       "6    SVM on TF-IDF of BoW  0.683269  0.637452\n",
       "7               NN on BoW  0.715159  0.677637\n",
       "8  LR on BoW up to 3grams  0.718445  0.669910\n",
       "9    Linear SVM on 3grams  0.683269  0.598545"
      ]
     },
     "execution_count": 55,
     "metadata": {},
     "output_type": "execute_result"
    }
   ],
   "source": [
    "Results.to_pickle('AUC_Models_BoW_valid_balanced.pkl')\n",
    "Results.to_csv('AUC_F1_Models_preformance_valid_balanced.csv', index=False)\n",
    "Results"
   ]
  },
  {
   "cell_type": "markdown",
   "metadata": {},
   "source": [
    "### Conclusions:\n",
    "- Performance depends on the class distribution both in training and validation sets. \n",
    "- Neural Network shows the best result.\n",
    "- SVMs and Logistic regression always give good result on small datasets. \n",
    "- N-grams may show better performance. \n",
    "- Naive Bayes never performs well on unstructured texts. \n",
    "\n",
    "\n",
    "\n",
    "    "
   ]
  },
  {
   "cell_type": "code",
   "execution_count": null,
   "metadata": {},
   "outputs": [],
   "source": []
  }
 ],
 "metadata": {
  "kernelspec": {
   "display_name": "Python 3",
   "language": "python",
   "name": "python3"
  },
  "language_info": {
   "codemirror_mode": {
    "name": "ipython",
    "version": 3
   },
   "file_extension": ".py",
   "mimetype": "text/x-python",
   "name": "python",
   "nbconvert_exporter": "python",
   "pygments_lexer": "ipython3",
   "version": "3.7.5"
  }
 },
 "nbformat": 4,
 "nbformat_minor": 2
}
